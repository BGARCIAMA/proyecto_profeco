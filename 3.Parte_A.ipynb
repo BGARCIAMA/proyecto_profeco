{
 "cells": [
  {
   "attachments": {
    "4ba258b7-cca5-4cd1-bc9f-4a876142fe0d.png": {
     "image/png": "[encoded data removed]"
    }
   },
   "cell_type": "markdown",
   "id": "b4fc4a84-b38a-4baf-8248-8fbaa716b9c3",
   "metadata": {},
   "source": [
    "# *Proyecto Quien es Quien (Profeco)* 💰\n",
    "## (MCD ITAM Primavera 2024)\n",
    "\n",
    "![ITAM.png](attachment:4ba258b7-cca5-4cd1-bc9f-4a876142fe0d.png)\n",
    "\n",
    "## *Autores* 📚\n",
    "\n",
    "| Nombre                     |  CU    | Correo Electrónico | Usuario Github |\n",
    "|----------------------------|--------|--------------------|----------------|\n",
    "| Blanca E. García Manjarrez | 118886 | bgarci11@itam.mx   |    BGARCIAMA   |\n",
    "| Iván García Alba           | 214549 | rgarc199@itam.mx   |    GARCIA889   |\n",
    "| Valeria Durán Rubio        | 124273 | vduranru@itam.mx   |    VDR90       |\n",
    "| Yuneri Pérez Arellano      | 199813 | yperezar@itam.mx   |    YunPerez    |"
   ]
  },
  {
   "cell_type": "code",
   "execution_count": null,
   "id": "63001432-7aba-4794-9435-66cd8c7095f4",
   "metadata": {},
   "outputs": [],
   "source": [
    "\"\"\"\n",
    "\n",
    "Este notebook permite al usuario levantar \n",
    "un cluster en AWS con Hadoop y Pyspark \n",
    "A partir de ahi el usuario cuenta con un \n",
    "ETL que debe correrse en el Cluster para: \n",
    " - Subir a S3 el archivo o archivos.\n",
    " - Cargar el CSV separado por pipes con la \n",
    " información de los años 2018 a 2024 en Spark.\n",
    " - Guardar el CSV como parquet en S3 y particionar\n",
    " por `catalogo` y `año`.\n",
    " - Cargar el parquet en Spark para responder\n",
    " las preguntas.\n",
    "\n",
    "Este notebook utiliza principalmente `pyspark`\n",
    "para responder las preguntas.\n",
    "\n",
    "\"\"\""
   ]
  },
  {
   "cell_type": "code",
   "execution_count": 1,
   "id": "c237f23e-2514-48d3-8c60-aea0fd419c1a",
   "metadata": {},
   "outputs": [
    {
     "name": "stdout",
     "output_type": "stream",
     "text": [
      "Starting Spark application\n"
     ]
    },
    {
     "data": {
      "text/html": [
       "<table>\n",
       "<tr><th>ID</th><th>YARN Application ID</th><th>Kind</th><th>State</th><th>Spark UI</th><th>Driver log</th><th>User</th><th>Current session?</th></tr><tr><td>2</td><td>application_1714149550544_0003</td><td>pyspark</td><td>idle</td><td><a target=\"_blank\" href=\"http://ip-172-31-43-241.ec2.internal:20888/proxy/application_1714149550544_0003/\">Link</a></td><td><a target=\"_blank\" href=\"http://ip-172-31-33-83.ec2.internal:8042/node/containerlogs/container_1714149550544_0003_01_000001/livy\">Link</a></td><td>None</td><td>✔</td></tr></table>"
      ],
      "text/plain": [
       "<IPython.core.display.HTML object>"
      ]
     },
     "metadata": {},
     "output_type": "display_data"
    },
    {
     "data": {
      "application/vnd.jupyter.widget-view+json": {
       "model_id": "",
       "version_major": 2,
       "version_minor": 0
      },
      "text/plain": [
       "FloatProgress(value=0.0, bar_style='info', description='Progress:', layout=Layout(height='25px', width='50%'),…"
      ]
     },
     "metadata": {},
     "output_type": "display_data"
    },
    {
     "name": "stdout",
     "output_type": "stream",
     "text": [
      "SparkSession available as 'spark'.\n"
     ]
    },
    {
     "data": {
      "application/vnd.jupyter.widget-view+json": {
       "model_id": "",
       "version_major": 2,
       "version_minor": 0
      },
      "text/plain": [
       "FloatProgress(value=0.0, bar_style='info', description='Progress:', layout=Layout(height='25px', width='50%'),…"
      ]
     },
     "metadata": {},
     "output_type": "display_data"
    }
   ],
   "source": [
    "# Librerías necesarias\n",
    "\n",
    "from datetime import datetime, date\n",
    "from pyspark.sql import SparkSession, Row\n",
    "from pyspark.sql.functions import (\n",
    "    col, max, count, countDistinct, first, regexp_replace, lower, coalesce,\n",
    "    year, month, to_date, lit, row_number, min, trim\n",
    ")\n",
    "from pyspark.sql.types import IntegerType, DateType, StructType, StringType, LongType, DoubleType, StructField\n",
    "from pyspark.sql.window import Window\n",
    "from pyspark.storagelevel import StorageLevel\n",
    "import pyspark.sql.functions as f"
   ]
  },
  {
   "cell_type": "code",
   "execution_count": 2,
   "id": "60270762-9d70-4da9-b334-d02bcd731bb4",
   "metadata": {},
   "outputs": [
    {
     "data": {
      "application/vnd.jupyter.widget-view+json": {
       "model_id": "",
       "version_major": 2,
       "version_minor": 0
      },
      "text/plain": [
       "FloatProgress(value=0.0, bar_style='info', description='Progress:', layout=Layout(height='25px', width='50%'),…"
      ]
     },
     "metadata": {},
     "output_type": "display_data"
    }
   ],
   "source": [
    "# Se inicializa una sesión de spark\n",
    "spark = SparkSession.builder \\\n",
    "    .config(\"spark.executor.memory\", \"12g\") \\\n",
    "    .config(\"spark.driver.memory\", \"8g\") \\\n",
    "    .getOrCreate()"
   ]
  },
  {
   "cell_type": "code",
   "execution_count": 3,
   "id": "39dc6d7b-af96-46d2-be26-2f12f4315ff6",
   "metadata": {},
   "outputs": [
    {
     "data": {
      "application/vnd.jupyter.widget-view+json": {
       "model_id": "",
       "version_major": 2,
       "version_minor": 0
      },
      "text/plain": [
       "FloatProgress(value=0.0, bar_style='info', description='Progress:', layout=Layout(height='25px', width='50%'),…"
      ]
     },
     "metadata": {},
     "output_type": "display_data"
    }
   ],
   "source": [
    "# Se lee el archivo .csv con la información de todos los años\n",
    "df_profeco_stg = spark.read \\\n",
    "    .option(\"header\", \"true\") \\\n",
    "    .option(\"delimiter\", \"|\") \\\n",
    "    .csv(\"s3://proyectoprofeco/data/raw/QQP_total.csv\")"
   ]
  },
  {
   "cell_type": "markdown",
   "id": "1c77fc64-635a-4208-b6ba-9e62f28583ab",
   "metadata": {},
   "source": [
    "#### *Verificamos qué información trae el dataset, con una muestra de 5 registros*"
   ]
  },
  {
   "cell_type": "code",
   "execution_count": 4,
   "id": "4704aca6-c6b9-4133-9565-cddf8836b5c4",
   "metadata": {},
   "outputs": [
    {
     "data": {
      "application/vnd.jupyter.widget-view+json": {
       "model_id": "",
       "version_major": 2,
       "version_minor": 0
      },
      "text/plain": [
       "FloatProgress(value=0.0, bar_style='info', description='Progress:', layout=Layout(height='25px', width='50%'),…"
      ]
     },
     "metadata": {},
     "output_type": "display_data"
    },
    {
     "name": "stdout",
     "output_type": "stream",
     "text": [
      "+----+------------------+----------------------------------------------------+--------------+---------------------+-----------------+-------+-------------+---------------+---------------------------+--------------------------+---------------------------------------------------------------+--------------+--------------+---------+-----------+\n",
      "|anio|producto          |presentacion                                        |marca         |categoria            |catalogo         |precio |fecharegistro|cadenacomercial|giro                       |nombrecomercial           |direccion                                                      |estado        |municipio     |latitud  |longitud   |\n",
      "+----+------------------+----------------------------------------------------+--------------+---------------------+-----------------+-------+-------------+---------------+---------------------------+--------------------------+---------------------------------------------------------------+--------------+--------------+---------+-----------+\n",
      "|2018|batidoras         |2532 o 2532-013. manual. 6 velocidades. sin tazon   |oster         |aparatos electricos  |electrodomesticos|389.00 |2018-01-02   |coppel         |tienda de electrodomesticos|coppel sucursal san marcos|convencion nte. 2301 esq. fundicion col. san cayetano cp. 20010|aguascalientes|aguascalientes|21.896204|-102.309694|\n",
      "|2018|batidoras         |robot 300 inox. de inmersion. 1 velocidad. sin tazon|taurus        |aparatos electricos  |electrodomesticos|299.00 |2018-01-02   |coppel         |tienda de electrodomesticos|coppel sucursal san marcos|convencion nte. 2301 esq. fundicion col. san cayetano cp. 20010|aguascalientes|aguascalientes|21.896204|-102.309694|\n",
      "|2018|bocinas portatiles|fh 4. usb y bluetooth. potencia 80 w rms            |lg            |aparatos electronicos|electrodomesticos|3499.00|2018-01-02   |coppel         |tienda de electrodomesticos|coppel sucursal san marcos|convencion nte. 2301 esq. fundicion col. san cayetano cp. 20010|aguascalientes|aguascalientes|21.896204|-102.309694|\n",
      "|2018|cafeteras         |49615. capacidad 12 tazas                           |hamilton beach|aparatos electricos  |electrodomesticos|619.00 |2018-01-02   |coppel         |tienda de electrodomesticos|coppel sucursal san marcos|convencion nte. 2301 esq. fundicion col. san cayetano cp. 20010|aguascalientes|aguascalientes|21.896204|-102.309694|\n",
      "|2018|camaras digitales |a100. mega pixeles 20.1. zoom optico 5x             |nikon. coolpix|aparatos electronicos|electrodomesticos|3099.00|2018-01-02   |coppel         |tienda de electrodomesticos|coppel sucursal san marcos|convencion nte. 2301 esq. fundicion col. san cayetano cp. 20010|aguascalientes|aguascalientes|21.896204|-102.309694|\n",
      "+----+------------------+----------------------------------------------------+--------------+---------------------+-----------------+-------+-------------+---------------+---------------------------+--------------------------+---------------------------------------------------------------+--------------+--------------+---------+-----------+\n",
      "only showing top 5 rows"
     ]
    }
   ],
   "source": [
    "df_profeco_stg.show(5, truncate=False)"
   ]
  },
  {
   "cell_type": "markdown",
   "id": "51a83235-5cc3-49da-9f84-7420592495df",
   "metadata": {},
   "source": [
    "#### *Declaramos cada variable con el tipo correcto para optimizar el almamacenamiento de la inforamción.*"
   ]
  },
  {
   "cell_type": "code",
   "execution_count": 5,
   "id": "1d6f7efc-cb2c-4431-bb49-f41bfc307fc8",
   "metadata": {},
   "outputs": [
    {
     "data": {
      "application/vnd.jupyter.widget-view+json": {
       "model_id": "",
       "version_major": 2,
       "version_minor": 0
      },
      "text/plain": [
       "FloatProgress(value=0.0, bar_style='info', description='Progress:', layout=Layout(height='25px', width='50%'),…"
      ]
     },
     "metadata": {},
     "output_type": "display_data"
    }
   ],
   "source": [
    "# Declaramos el esquema de la tabla\n",
    "schema = StructType([\n",
    "    StructField(\"anio\", IntegerType(), nullable=False),\n",
    "    StructField(\"producto\", StringType(), nullable=True),\n",
    "    StructField(\"presentacion\", StringType(), nullable=True),\n",
    "    StructField(\"marca\", StringType(), nullable=True),\n",
    "    StructField(\"categoria\", StringType(), nullable=True),\n",
    "    StructField(\"catalogo\", StringType(), nullable=True),\n",
    "    StructField(\"precio\", DoubleType(), nullable=True),\n",
    "    StructField(\"fecharegistro\", DateType(), nullable=True),\n",
    "    StructField(\"cadenacomercial\", StringType(), nullable=True),\n",
    "    StructField(\"giro\", StringType(), nullable=True),\n",
    "    StructField(\"nombrecomercial\", StringType(), nullable=True),\n",
    "    StructField(\"direccion\", StringType(), nullable=True),\n",
    "    StructField(\"estado\", StringType(), nullable=True),\n",
    "    StructField(\"municipio\", StringType(), nullable=True),\n",
    "    StructField(\"latitud\", DoubleType(), nullable=True),\n",
    "    StructField(\"longitud\", DoubleType(), nullable=True)\n",
    "])\n",
    "\n",
    "df_profeco_stg = df_profeco_stg.select([df_profeco_stg[col].cast(schema[col].dataType) for col in df_profeco_stg.columns])"
   ]
  },
  {
   "cell_type": "code",
   "execution_count": 6,
   "id": "cbbcfc99-eea5-40b7-85f6-4bd8db0561fc",
   "metadata": {},
   "outputs": [
    {
     "data": {
      "application/vnd.jupyter.widget-view+json": {
       "model_id": "",
       "version_major": 2,
       "version_minor": 0
      },
      "text/plain": [
       "FloatProgress(value=0.0, bar_style='info', description='Progress:', layout=Layout(height='25px', width='50%'),…"
      ]
     },
     "metadata": {},
     "output_type": "display_data"
    },
    {
     "name": "stdout",
     "output_type": "stream",
     "text": [
      "root\n",
      " |-- anio: integer (nullable = true)\n",
      " |-- producto: string (nullable = true)\n",
      " |-- presentacion: string (nullable = true)\n",
      " |-- marca: string (nullable = true)\n",
      " |-- categoria: string (nullable = true)\n",
      " |-- catalogo: string (nullable = true)\n",
      " |-- precio: double (nullable = true)\n",
      " |-- fecharegistro: date (nullable = true)\n",
      " |-- cadenacomercial: string (nullable = true)\n",
      " |-- giro: string (nullable = true)\n",
      " |-- nombrecomercial: string (nullable = true)\n",
      " |-- direccion: string (nullable = true)\n",
      " |-- estado: string (nullable = true)\n",
      " |-- municipio: string (nullable = true)\n",
      " |-- latitud: double (nullable = true)\n",
      " |-- longitud: double (nullable = true)"
     ]
    }
   ],
   "source": [
    "df_profeco_stg.printSchema()"
   ]
  },
  {
   "cell_type": "markdown",
   "id": "af22e476-ff00-48a4-9299-e56524864a55",
   "metadata": {},
   "source": [
    "#### *Verificamos cuantos registros unicos se tienen por cada variable*"
   ]
  },
  {
   "cell_type": "code",
   "execution_count": 7,
   "id": "05270078-0486-42f0-9e23-dbbec2a5d938",
   "metadata": {},
   "outputs": [
    {
     "data": {
      "application/vnd.jupyter.widget-view+json": {
       "model_id": "",
       "version_major": 2,
       "version_minor": 0
      },
      "text/plain": [
       "FloatProgress(value=0.0, bar_style='info', description='Progress:', layout=Layout(height='25px', width='50%'),…"
      ]
     },
     "metadata": {},
     "output_type": "display_data"
    },
    {
     "name": "stdout",
     "output_type": "stream",
     "text": [
      "+------+----------+--------------+-------+-----------+----------+--------+---------------+-----------------+------+-----------------+-----------+--------+-----------+---------+----------+\n",
      "|anio_c|producto_c|presentacion_c|marca_c|categoria_c|catalogo_c|precio_c|fecharegistro_c|cadenacomercial_c|giro_c|nombrecomercial_c|direccion_c|estado_c|municipio_c|latitud_c|longitud_c|\n",
      "+------+----------+--------------+-------+-----------+----------+--------+---------------+-----------------+------+-----------------+-----------+--------+-----------+---------+----------+\n",
      "|     7|       823|          8527|   1971|         42|        12|  143965|           1595|              415|    18|             3349|       3635|      32|         94|     3296|      3295|\n",
      "+------+----------+--------------+-------+-----------+----------+--------+---------------+-----------------+------+-----------------+-----------+--------+-----------+---------+----------+"
     ]
    }
   ],
   "source": [
    "# Conteos de registros unicos por variables\n",
    "conteos = df_profeco_stg.agg(*(countDistinct(col).alias(col + '_c') for col in df_profeco_stg.columns))\n",
    "conteos.show()"
   ]
  },
  {
   "cell_type": "markdown",
   "id": "97053df6-2bbe-4a36-88fb-251638773945",
   "metadata": {},
   "source": [
    "#### *Al revisar la información notamos que existen caracteres que pueden complicar el análisis por lo que los eliminamos y adecuamos.*"
   ]
  },
  {
   "cell_type": "code",
   "execution_count": 8,
   "id": "49495062-8901-4a15-add1-dc97cc59e63e",
   "metadata": {},
   "outputs": [
    {
     "data": {
      "application/vnd.jupyter.widget-view+json": {
       "model_id": "",
       "version_major": 2,
       "version_minor": 0
      },
      "text/plain": [
       "FloatProgress(value=0.0, bar_style='info', description='Progress:', layout=Layout(height='25px', width='50%'),…"
      ]
     },
     "metadata": {},
     "output_type": "display_data"
    }
   ],
   "source": [
    "# Se reemplazan caracteres especiales\n",
    "df_profeco_stg = df_profeco_stg.withColumn(\"catalogo\", regexp_replace(trim(\"catalogo\"), \" \", \"_\")) \\\n",
    "                       .withColumn(\"estado\", regexp_replace(trim(\"estado\"), \" \", \"_\")) \\\n",
    "                       .withColumn(\"marca\", regexp_replace(regexp_replace(regexp_replace(trim(\"marca\"), \"\\.\", \"\"), \"/\", \"\"), \"-\", \"\"))"
   ]
  },
  {
   "cell_type": "code",
   "execution_count": 9,
   "id": "f7b4663a-f2e9-45a1-bd98-d205e8f1a684",
   "metadata": {},
   "outputs": [
    {
     "data": {
      "application/vnd.jupyter.widget-view+json": {
       "model_id": "",
       "version_major": 2,
       "version_minor": 0
      },
      "text/plain": [
       "FloatProgress(value=0.0, bar_style='info', description='Progress:', layout=Layout(height='25px', width='50%'),…"
      ]
     },
     "metadata": {},
     "output_type": "display_data"
    }
   ],
   "source": [
    "# Se reemplazan caracteres especiales en marca\n",
    "df_profeco_stg = df_profeco_stg.withColumn(\"marca\", regexp_replace(\"marca\", \" \", \"_\"))"
   ]
  },
  {
   "cell_type": "markdown",
   "id": "a842ac60-4a1e-43fc-9c07-c1ada04d25b2",
   "metadata": {},
   "source": [
    "#### *Guardamos la base de datos en parquets, particionando por catalogo y año, para posteriormente elegir unicamente el catalogo asignado al equipo.*"
   ]
  },
  {
   "cell_type": "code",
   "execution_count": 10,
   "id": "11a31f1d-44da-4fcd-83a3-5ab32e795064",
   "metadata": {},
   "outputs": [
    {
     "data": {
      "application/vnd.jupyter.widget-view+json": {
       "model_id": "",
       "version_major": 2,
       "version_minor": 0
      },
      "text/plain": [
       "FloatProgress(value=0.0, bar_style='info', description='Progress:', layout=Layout(height='25px', width='50%'),…"
      ]
     },
     "metadata": {},
     "output_type": "display_data"
    }
   ],
   "source": [
    "# Se guarda la información particionada en parquets\n",
    "(df_profeco_stg\n",
    "     .write.parquet(\n",
    "         \"s3://proyectoprofeco/data/parquets/\", \n",
    "         mode=\"overwrite\", \n",
    "         partitionBy=[\"catalogo\", \"anio\"]\n",
    "     )\n",
    ")"
   ]
  },
  {
   "cell_type": "markdown",
   "id": "7124ee7c-fbb8-4f22-8b1d-97e7ab22a6d1",
   "metadata": {},
   "source": [
    "# **Parte A**"
   ]
  },
  {
   "cell_type": "markdown",
   "id": "56df995a-7295-4d77-ba04-93c1c0dba828",
   "metadata": {},
   "source": [
    "# Contesta las siguientes preguntas utilizando PySpark. Realiza el siguiente análisis **(por año)** y sobre todos los catálogos."
   ]
  },
  {
   "cell_type": "markdown",
   "id": "114dba10-be83-47e8-aee1-1d72e4e031d8",
   "metadata": {},
   "source": [
    "# ¿Cuántos catálogos diferentes tenemos?"
   ]
  },
  {
   "cell_type": "code",
   "execution_count": 11,
   "id": "cac3b437",
   "metadata": {},
   "outputs": [
    {
     "data": {
      "application/vnd.jupyter.widget-view+json": {
       "model_id": "",
       "version_major": 2,
       "version_minor": 0
      },
      "text/plain": [
       "FloatProgress(value=0.0, bar_style='info', description='Progress:', layout=Layout(height='25px', width='50%'),…"
      ]
     },
     "metadata": {},
     "output_type": "display_data"
    }
   ],
   "source": [
    "# Ruta al s3 que contiene los archivos parquet particionados\n",
    "ruta_parquet = \"s3://proyectoprofeco/data/parquets\"\n",
    "\n",
    "# Lee los archivos Parquet particionados en un dataFrame de Spark\n",
    "df_profeco = spark.read.parquet(ruta_parquet)"
   ]
  },
  {
   "cell_type": "code",
   "execution_count": 12,
   "id": "ce36cd58-3021-4c7a-946e-ede5ecefc21e",
   "metadata": {},
   "outputs": [
    {
     "data": {
      "application/vnd.jupyter.widget-view+json": {
       "model_id": "",
       "version_major": 2,
       "version_minor": 0
      },
      "text/plain": [
       "FloatProgress(value=0.0, bar_style='info', description='Progress:', layout=Layout(height='25px', width='50%'),…"
      ]
     },
     "metadata": {},
     "output_type": "display_data"
    },
    {
     "name": "stdout",
     "output_type": "stream",
     "text": [
      "+----+----+----+----+----+----+----+\n",
      "|2018|2019|2020|2021|2022|2023|2024|\n",
      "+----+----+----+----+----+----+----+\n",
      "|  10|  11|  10|  10|  11|  11|  10|\n",
      "+----+----+----+----+----+----+----+"
     ]
    }
   ],
   "source": [
    "# Se cuentan los catálogos diferentes por año\n",
    "num_catalogos_anio = (\n",
    "    df_profeco\n",
    "    .groupBy(lit(1).alias(\"Grupo\"))\n",
    "    .pivot(\"anio\")\n",
    "    .agg(countDistinct(\"catalogo\"))\n",
    ")\n",
    "\n",
    "num_catalogos_anio.drop(\"Grupo\").show()"
   ]
  },
  {
   "cell_type": "markdown",
   "id": "0ee2859a-f07d-448f-a133-17f316b3ab66",
   "metadata": {},
   "source": [
    "#### *Se tienen entre 10 y 11 catálogos diferentes desde el 2018 hasta el 2024.*"
   ]
  },
  {
   "cell_type": "markdown",
   "id": "6c2c87fe-c813-4a37-85c2-73c20872c03d",
   "metadata": {},
   "source": [
    "# ¿Cuáles son los 20 catálogos con más observaciones? Guarda la salida de este query en tu bucket de S3, lo necesitaremos más adelante."
   ]
  },
  {
   "cell_type": "code",
   "execution_count": 13,
   "id": "5c63aec3-b54e-4aa8-8b17-e568454576a7",
   "metadata": {},
   "outputs": [
    {
     "data": {
      "application/vnd.jupyter.widget-view+json": {
       "model_id": "",
       "version_major": 2,
       "version_minor": 0
      },
      "text/plain": [
       "FloatProgress(value=0.0, bar_style='info', description='Progress:', layout=Layout(height='25px', width='50%'),…"
      ]
     },
     "metadata": {},
     "output_type": "display_data"
    },
    {
     "name": "stdout",
     "output_type": "stream",
     "text": [
      "+-------------------+-------+-------+-------+-------+-------+-------+-------+-----------+\n",
      "|           catalogo|   2018|   2019|   2020|   2021|   2022|   2023|   2024|Obs_Totales|\n",
      "+-------------------+-------+-------+-------+-------+-------+-------+-------+-----------+\n",
      "|            basicos|8804761|7398860|6170515|6919490|7945110|7742108|1986577|   46967421|\n",
      "|       medicamentos|3657969|2887105|2571915|2937404|3177815|3192617| 798628|   19223453|\n",
      "|  electrodomesticos|1735336|1352068| 602860|1004833|1029302|1183304| 267835|    7175538|\n",
      "| frutas_y_legumbres| 938616| 702747| 643820| 756850| 926031| 861829| 211839|    5041732|\n",
      "|   utiles_escolares| 665135| 575317| 219573| 549740| 421178| 442965|  62102|    2936010|\n",
      "|           mercados| 457497| 381183| 312800| 318280| 367637| 324401|  76886|    2238684|\n",
      "|           juguetes| 370421| 267730| 181907| 207318| 180332| 205361|  19114|    1432183|\n",
      "|pescados_y_mariscos|  90040|  69658|  50978|  74902| 114753| 123335|  45966|     569632|\n",
      "|          navidenos|  58674|  42538|  26111|  43490|  33365|  32163|    202|     236543|\n",
      "|              pacic|   NULL|   NULL|   NULL|   NULL| 251709| 671655| 155798|       NULL|\n",
      "|              tenis|   4452|   4306|   NULL|   1687|   2249|   3074|   NULL|       NULL|\n",
      "|        aeropuertos|   NULL|    579|      2|   NULL|   NULL|   NULL|   NULL|       NULL|\n",
      "+-------------------+-------+-------+-------+-------+-------+-------+-------+-----------+"
     ]
    }
   ],
   "source": [
    "# Se muestran los catálogos con más observaciones por año\n",
    "aux_catalogos_obs_anio = (\n",
    "    df_profeco\n",
    "    .groupBy(\"catalogo\")\n",
    "    .pivot(\"anio\")\n",
    "    .agg(count(\"catalogo\").alias(\"Observaciones\"))\n",
    ")\n",
    "\n",
    "total_obs = sum(col(str(year)) for year in range(2018, 2025))\n",
    "top20_catalogos_obs_anio = (\n",
    "    aux_catalogos_obs_anio\n",
    "    .withColumn(\"Obs_Totales\", total_obs)\n",
    "    .orderBy(\"Obs_Totales\", ascending=False)\n",
    "    .limit(20)\n",
    ")\n",
    "\n",
    "top20_catalogos_obs_anio.show(20)"
   ]
  },
  {
   "cell_type": "markdown",
   "id": "7f7ca89c-144a-4a8d-8730-f9be1e60cbf3",
   "metadata": {},
   "source": [
    "#### *Derivado de que el análisis comprende el periodo de 2018 al 2024, unicamente se observó un máximo de 12 catálogos, siendo \"basicos\" el catálogo con más observaciones, seguido de \"medicamentos\", \"electrodomesticos\", etc.*"
   ]
  },
  {
   "cell_type": "markdown",
   "id": "222d7f26-483b-45d2-8ec3-bc362d2a353a",
   "metadata": {},
   "source": [
    "# ¿Tenemos datos de todos los estados del país? De no ser así, ¿cuáles faltan?"
   ]
  },
  {
   "cell_type": "code",
   "execution_count": 14,
   "id": "1da912bb-f211-4166-8847-865841a51ad8",
   "metadata": {},
   "outputs": [
    {
     "data": {
      "application/vnd.jupyter.widget-view+json": {
       "model_id": "",
       "version_major": 2,
       "version_minor": 0
      },
      "text/plain": [
       "FloatProgress(value=0.0, bar_style='info', description='Progress:', layout=Layout(height='25px', width='50%'),…"
      ]
     },
     "metadata": {},
     "output_type": "display_data"
    },
    {
     "name": "stdout",
     "output_type": "stream",
     "text": [
      "+-------+----+----+----+----+\n",
      "| estado|2021|2022|2023|2024|\n",
      "+-------+----+----+----+----+\n",
      "|nayarit|   1|   1|   1|   1|\n",
      "| colima|   1|   1|   1|   1|\n",
      "+-------+----+----+----+----+"
     ]
    }
   ],
   "source": [
    "# Se extraen los estados observados por año en la base\n",
    "edos_obs_anio = (\n",
    "    df_profeco\n",
    "    .groupBy(\"estado\", \"anio\")\n",
    "    .agg(count(\"estado\").alias(\"Conteo\"))\n",
    "    .orderBy(\"Conteo\", ascending=False)\n",
    ")\n",
    "# Se declaran los estados de méxico\n",
    "edos_mexico = [\n",
    "    \"aguascalientes\", \"baja_california\", \"baja_california_sur\", \"campeche\",\n",
    "    \"chiapas\", \"chihuahua\", \"ciudad_de_mexico\", \"coahuila_de_zaragoza\",\n",
    "    \"colima\", \"durango\", \"estado_de_mexico\", \"guanajuato\", \"guerrero\",\n",
    "    \"hidalgo\", \"jalisco\", \"michoacan_de_ocampo\", \"morelos\", \"nayarit\",\n",
    "    \"nuevo_leon\", \"oaxaca\", \"puebla\", \"queretaro\", \"quintana_roo\",\n",
    "    \"san_luis_potosi\", \"sinaloa\", \"sonora\", \"tabasco\", \"tamaulipas\",\n",
    "    \"tlaxcala\", \"veracruz\", \"yucatan\", \"zacatecas\"\n",
    "]\n",
    "\n",
    "years = list(range(2018, 2025))\n",
    "# Crear el DataFrame de combinaciones estado-año\n",
    "edos_anios = [(estado, year) for estado in edos_mexico for year in years]\n",
    "edos_anios_df = spark.createDataFrame(edos_anios, [\"estado\", \"anio\"])\n",
    "\n",
    "# Se obtienen los estados con datos faltantes\n",
    "edos_faltantes = (\n",
    "    edos_anios_df\n",
    "    .join(edos_obs_anio, on=[\"estado\", \"anio\"], how=\"left_anti\")\n",
    "    .groupBy(\"estado\")\n",
    "    .pivot(\"anio\")\n",
    "    .agg(lit(1))\n",
    ")\n",
    "# Se muestran los estados faltantes y se indica en que año falta\n",
    "edos_faltantes.show()"
   ]
  },
  {
   "cell_type": "markdown",
   "id": "0b66aa32-e426-4690-960e-fcfaa440e8cd",
   "metadata": {},
   "source": [
    "#### *No. Los estados con datos faltantes por año, fueron Colima y Nayarit, ya que no tuvieron registros en desde el 2021 al 2024.*"
   ]
  },
  {
   "cell_type": "markdown",
   "id": "fdb001c4-c9f0-4cf9-b91c-37c89f0c62a5",
   "metadata": {},
   "source": [
    "# ¿Cuántas observaciones tenemos por estado?"
   ]
  },
  {
   "cell_type": "code",
   "execution_count": 15,
   "id": "0a6bde73-cbf2-425b-9b54-e002017a5923",
   "metadata": {},
   "outputs": [
    {
     "data": {
      "application/vnd.jupyter.widget-view+json": {
       "model_id": "",
       "version_major": 2,
       "version_minor": 0
      },
      "text/plain": [
       "FloatProgress(value=0.0, bar_style='info', description='Progress:', layout=Layout(height='25px', width='50%'),…"
      ]
     },
     "metadata": {},
     "output_type": "display_data"
    },
    {
     "name": "stdout",
     "output_type": "stream",
     "text": [
      "+--------------------+-------+-------+-------+-------+-------+-------+------+\n",
      "|              estado|   2018|   2019|   2020|   2021|   2022|   2023|  2024|\n",
      "+--------------------+-------+-------+-------+-------+-------+-------+------+\n",
      "|      aguascalientes| 235847| 289973| 216598| 240772| 291820| 313809| 79726|\n",
      "|     baja_california| 619093| 165344| 195002| 104216| 160203| 209715| 60414|\n",
      "| baja_california_sur| 163771| 135558| 244874| 283821| 282548| 291569| 74986|\n",
      "|            campeche| 270889| 273786| 253009| 289282| 298464| 303525| 76119|\n",
      "|             chiapas| 360125| 236768| 124094| 164396| 164801|  88692| 24856|\n",
      "|           chihuahua| 401630| 264343|   7797| 182849| 385359| 442131|114369|\n",
      "|    ciudad_de_mexico|2492481|2495784|2446252|3062808|3355847|3320792|794834|\n",
      "|coahuila_de_zaragoza| 345559| 271376| 226226| 228360| 232422| 246396| 66180|\n",
      "|              colima| 262907| 283025|  14588|   NULL|   NULL|   NULL|  NULL|\n",
      "|             durango| 287888| 270862| 238719| 247466| 247858| 255165| 68269|\n",
      "|    estado_de_mexico|1840105|1814140|1827760|2052097|2196972|2275173|531301|\n",
      "|          guanajuato| 550547| 505784| 359468| 462816| 627679| 661998|161713|\n",
      "|            guerrero| 298775| 330448| 104350|  66624|  77074|  75327| 29217|\n",
      "|             hidalgo| 255213| 208028| 188651|  21329|  51170| 128554| 15587|\n",
      "|             jalisco| 811385| 631726| 577489| 634047| 656106| 702300|169937|\n",
      "| michoacan_de_ocampo| 226767| 155119| 269586| 280885| 256208| 278337| 71962|\n",
      "|             morelos| 208855|  27530|  15949| 169536| 266914| 273533| 64394|\n",
      "|             nayarit| 230976|  27635|   7457|   NULL|   NULL|   NULL|  NULL|\n",
      "|          nuevo_leon| 699308| 471936| 378586| 482846| 560027| 614477|151140|\n",
      "|              oaxaca| 245528| 256981| 203726| 247549| 248123| 265726| 68880|\n",
      "|              puebla| 395217| 402726| 341534| 438280| 356875| 338442| 72272|\n",
      "|           queretaro| 377791| 399644| 369344| 409820| 417975| 444975|115311|\n",
      "|        quintana_roo| 585453| 428046| 390566| 431858| 386756| 475359|122966|\n",
      "|     san_luis_potosi| 281169| 271076| 244669| 279426| 283818| 286694| 71405|\n",
      "|             sinaloa| 561147| 245321| 106815| 155030| 162044|  37301| 14151|\n",
      "|              sonora| 788125| 338454|  27068| 165564| 241272| 254460| 72676|\n",
      "|             tabasco| 383018| 355292| 302722| 300771| 480664| 518479|130560|\n",
      "|          tamaulipas| 706469| 360168| 194061| 198805| 191707| 194395| 50612|\n",
      "|            tlaxcala| 340070| 383845| 252188| 224262| 275868| 267891| 66024|\n",
      "|            veracruz| 680277| 632340| 199515| 305543| 442839| 323497| 77827|\n",
      "|             yucatan| 506837| 392515| 210522| 326201| 398368| 404564| 92656|\n",
      "|           zacatecas| 369679| 356518| 241296| 356735| 451700| 489536|114603|\n",
      "+--------------------+-------+-------+-------+-------+-------+-------+------+"
     ]
    }
   ],
   "source": [
    "# Se obtiene las obsercaciones por estado por año\n",
    "obs_edos_anio = (\n",
    "    df_profeco\n",
    "    .groupBy(\"estado\")\n",
    "    .pivot(\"anio\")\n",
    "    .agg(count(\"*\").alias(\"Conteo\"))\n",
    "    .orderBy(\"estado\")\n",
    ")\n",
    "\n",
    "obs_edos_anio.show(32)"
   ]
  },
  {
   "cell_type": "markdown",
   "id": "e8b07bc5-fab9-4847-adda-ce38bad0a360",
   "metadata": {},
   "source": [
    "#### *En la tabla anterior, se muestran las observaciones que cada estado tiene en la base de datos por año.*"
   ]
  },
  {
   "cell_type": "markdown",
   "id": "a9a675e8-7b01-4e65-a847-502302b48408",
   "metadata": {},
   "source": [
    "# De cada estado obten: el número de catalogos diferentes por año, ¿ha aumentado el número de catálogos con el tiempo?"
   ]
  },
  {
   "cell_type": "code",
   "execution_count": 16,
   "id": "b083aa95-9e81-47ee-b448-e3e0dd460e77",
   "metadata": {},
   "outputs": [
    {
     "data": {
      "application/vnd.jupyter.widget-view+json": {
       "model_id": "",
       "version_major": 2,
       "version_minor": 0
      },
      "text/plain": [
       "FloatProgress(value=0.0, bar_style='info', description='Progress:', layout=Layout(height='25px', width='50%'),…"
      ]
     },
     "metadata": {},
     "output_type": "display_data"
    },
    {
     "name": "stdout",
     "output_type": "stream",
     "text": [
      "+--------------------+----+----+----+----+----+----+----+\n",
      "|              estado|2018|2019|2020|2021|2022|2023|2024|\n",
      "+--------------------+----+----+----+----+----+----+----+\n",
      "|      aguascalientes|   9|  11|   9|  10|  11|  11|   9|\n",
      "|     baja_california|  10|  10|   9|   9|  11|  11|  10|\n",
      "| baja_california_sur|   9|  10|   9|  10|  11|  11|  10|\n",
      "|            campeche|   9|   9|   9|  10|  11|  11|   9|\n",
      "|             chiapas|  10|  10|   9|   9|  10|  10|   8|\n",
      "|           chihuahua|  10|  11|   5|  10|  11|  11|  10|\n",
      "|    ciudad_de_mexico|  10|  10|   9|  10|  11|  11|  10|\n",
      "|coahuila_de_zaragoza|  10|   9|   9|  10|  11|  11|  10|\n",
      "|              colima|  10|  10|   4|NULL|NULL|NULL|NULL|\n",
      "|             durango|  10|  10|   9|  10|  11|  11|   9|\n",
      "|    estado_de_mexico|  10|  10|   9|  10|  11|  11|  10|\n",
      "|          guanajuato|  10|  10|   9|  10|  11|  11|   9|\n",
      "|            guerrero|  10|  10|   8|   8|   8|   7|   9|\n",
      "|             hidalgo|  10|  11|   9|   9|  10|  11|   8|\n",
      "|             jalisco|  10|  10|   9|  10|  11|  11|  10|\n",
      "| michoacan_de_ocampo|   9|   9|   9|  10|  11|  11|  10|\n",
      "|             morelos|   9|   9|   5|  10|  11|  11|  10|\n",
      "|             nayarit|  10|   8|   3|NULL|NULL|NULL|NULL|\n",
      "|          nuevo_leon|  10|  10|   9|  10|  11|  11|  10|\n",
      "|              oaxaca|  10|   9|   9|  10|  10|  10|   9|\n",
      "|              puebla|   9|   9|   8|   9|  10|  10|   9|\n",
      "|           queretaro|   9|  10|   9|  10|  11|  11|  10|\n",
      "|        quintana_roo|  10|  10|   9|  10|  11|  10|   9|\n",
      "|     san_luis_potosi|  10|  11|   9|  10|  11|  11|   9|\n",
      "|             sinaloa|  10|   9|   9|   9|  10|   6|   5|\n",
      "|              sonora|  10|  10|   6|  10|  11|  11|   9|\n",
      "|             tabasco|  10|  10|   9|   9|  11|  11|   9|\n",
      "|          tamaulipas|  10|  10|   9|  10|  10|  11|  10|\n",
      "|            tlaxcala|  10|  10|   9|  10|  11|  11|   9|\n",
      "|            veracruz|  10|  11|   9|  10|  11|  10|  10|\n",
      "|             yucatan|  10|  10|  10|  10|  11|  11|  10|\n",
      "|           zacatecas|  10|  10|   9|  10|  11|  11|  10|\n",
      "+--------------------+----+----+----+----+----+----+----+"
     ]
    }
   ],
   "source": [
    "# Se obtiene el número de catálogos diferentes por año\n",
    "catalogos_edo_anio = (\n",
    "    df_profeco\n",
    "    .groupBy(\"estado\", \"anio\")\n",
    "    .agg(countDistinct(\"catalogo\").alias(\"num_catalogos\"))\n",
    ")\n",
    "\n",
    "catalogos_edo_anio = (\n",
    "    catalogos_edo_anio\n",
    "    .groupBy(\"estado\")\n",
    "    .pivot(\"anio\")\n",
    "    .agg(first(\"num_catalogos\"))\n",
    "    .orderBy(\"estado\")\n",
    ")\n",
    "\n",
    "catalogos_edo_anio.show(32)"
   ]
  },
  {
   "cell_type": "markdown",
   "id": "f4c6b5cb-a664-4609-af31-b60baa6d5a63",
   "metadata": {},
   "source": [
    "#### *Con los resultados anteriores, se puede observar que los catálogos no aumentan con el tiempo, ya que lo que se observa por estado es que disminuya, aumente o se mantenga durante los 7 años analizados (2018 a 2024).*\n",
    "\n"
   ]
  },
  {
   "cell_type": "markdown",
   "id": "52431e77-7841-46e6-b9a2-3ff9fe4b6718",
   "metadata": {},
   "source": [
    "# Utilizando Spark contesta las siguientes preguntas a partir del catálogo que le tocó a tu equipo. Recuerda trabajar en el archivo con los datos particionados de otra manera tus queries van a tardar mucho."
   ]
  },
  {
   "cell_type": "code",
   "execution_count": 18,
   "id": "4ab442fe-238f-4711-820c-1ae0e04697a8",
   "metadata": {},
   "outputs": [
    {
     "data": {
      "application/vnd.jupyter.widget-view+json": {
       "model_id": "",
       "version_major": 2,
       "version_minor": 0
      },
      "text/plain": [
       "FloatProgress(value=0.0, bar_style='info', description='Progress:', layout=Layout(height='25px', width='50%'),…"
      ]
     },
     "metadata": {},
     "output_type": "display_data"
    }
   ],
   "source": [
    "# Se declara el path de donde se leerán los parquets\n",
    "path_data = \"s3://proyectoprofeco/data/parquets\"\n",
    "df_profecoBasicos = spark.read.parquet(f\"{path_data}/catalogo=basicos\")"
   ]
  },
  {
   "cell_type": "markdown",
   "id": "2b7dfca6-75c1-45ac-8bb9-38461a9c0e73",
   "metadata": {},
   "source": [
    "## **Preprocesamiento**"
   ]
  },
  {
   "cell_type": "markdown",
   "id": "91f01557-4936-4ed2-b295-f5dec8d01b03",
   "metadata": {},
   "source": [
    "#### *Se revisa la lectura del parquet sobre el catalogo \"basicos\" y se procede a homologar la variable \"marca\" unificando los nombres a partir de un catalogo creado para este fin.*"
   ]
  },
  {
   "cell_type": "code",
   "execution_count": 19,
   "id": "7b780609-ea3a-42d9-b281-2abbb5563de0",
   "metadata": {},
   "outputs": [
    {
     "data": {
      "application/vnd.jupyter.widget-view+json": {
       "model_id": "",
       "version_major": 2,
       "version_minor": 0
      },
      "text/plain": [
       "FloatProgress(value=0.0, bar_style='info', description='Progress:', layout=Layout(height='25px', width='50%'),…"
      ]
     },
     "metadata": {},
     "output_type": "display_data"
    },
    {
     "name": "stdout",
     "output_type": "stream",
     "text": [
      "+--------------------+--------------------+--------------------+------+-------------+---------------+--------------------+--------------------+--------------------+----------------+--------------+---------+----------+----+---------+\n",
      "|            producto|        presentacion|           categoria|precio|fecharegistro|cadenacomercial|                giro|     nombrecomercial|           direccion|          estado|     municipio|  latitud|  longitud|anio|    marca|\n",
      "+--------------------+--------------------+--------------------+------+-------------+---------------+--------------------+--------------------+--------------------+----------------+--------------+---------+----------+----+---------+\n",
      "|pollo rostizado. ...|pieza charola o b...|alimentos cocinad...|  84.0|   2018-09-26|   mega soriana|supermercado / ti...|mega soriana sucu...|calz. mexico-tacu...|ciudad_de_mexico|miguel hidalgo|19.460236|-99.193576|2018|sin_marca|\n",
      "|     polvo p/hornear|        bote 220 gr.|         condimentos| 21.38|   2018-09-26|   mega soriana|supermercado / ti...|mega soriana sucu...|calz. mexico-tacu...|ciudad_de_mexico|miguel hidalgo|19.460236|-99.193576|2018|    royal|\n",
      "|     polvo p/hornear|        bote 454 gr.|         condimentos|  41.0|   2018-09-26|   mega soriana|supermercado / ti...|mega soriana sucu...|calz. mexico-tacu...|ciudad_de_mexico|miguel hidalgo|19.460236|-99.193576|2018|    royal|\n",
      "|polvo p/preparar ...| sobre 7 gr. naranja|chocolates y golo...|   2.5|   2018-09-26|   mega soriana|supermercado / ti...|mega soriana sucu...|calz. mexico-tacu...|ciudad_de_mexico|miguel hidalgo|19.460236|-99.193576|2018|   clight|\n",
      "|polvo p/preparar ...| sobre 7 gr. naranja|chocolates y golo...|   2.6|   2018-09-26|   mega soriana|supermercado / ti...|mega soriana sucu...|calz. mexico-tacu...|ciudad_de_mexico|miguel hidalgo|19.460236|-99.193576|2018| frutimax|\n",
      "+--------------------+--------------------+--------------------+------+-------------+---------------+--------------------+--------------------+--------------------+----------------+--------------+---------+----------+----+---------+\n",
      "only showing top 5 rows"
     ]
    }
   ],
   "source": [
    "# Ruta al s3 que contiene el archivo de marcas únicas\n",
    "ruta_marcas = \"s3://proyectoprofeco/data/raw/marcas_basicos.csv\"\n",
    "\n",
    "# Se carga un catalogo de marcas únicas\n",
    "catalogo_df = spark.read.csv(ruta_marcas, header=True, inferSchema=True)\n",
    "\n",
    "# Se homologan las marcas dejando marcas unicas\n",
    "df_profecoBasicos = (df_profecoBasicos\n",
    "    .withColumn(\"norm_marca\", lower(regexp_replace(\"marca\", \"[\\- ]\", \"\")))\n",
    "    .join(catalogo_df, col(\"norm_marca\") == catalogo_df.marca, \"left\")\n",
    "    .withColumnRenamed(\"marca_distinct\", \"new_norm_marca\")\n",
    "    .withColumn(\"norm_marca\", coalesce(col(\"new_norm_marca\"), col(\"norm_marca\")))\n",
    "    .drop(\"new_norm_marca\", \"marca\")\n",
    "    .withColumnRenamed(\"norm_marca\", \"marca\")\n",
    ")\n",
    "\n",
    "df_profecoBasicos.show(5)"
   ]
  },
  {
   "cell_type": "markdown",
   "id": "e7119f13-236e-4873-b91e-c02967ec597f",
   "metadata": {},
   "source": [
    "# ¿Cuańtas marcas diferentes tiene tu categoría?"
   ]
  },
  {
   "cell_type": "code",
   "execution_count": 20,
   "id": "f461bc60-13c7-4299-b166-436dce9c9f5d",
   "metadata": {},
   "outputs": [
    {
     "data": {
      "application/vnd.jupyter.widget-view+json": {
       "model_id": "",
       "version_major": 2,
       "version_minor": 0
      },
      "text/plain": [
       "FloatProgress(value=0.0, bar_style='info', description='Progress:', layout=Layout(height='25px', width='50%'),…"
      ]
     },
     "metadata": {},
     "output_type": "display_data"
    },
    {
     "name": "stdout",
     "output_type": "stream",
     "text": [
      "+-----------------+\n",
      "|marcas_diferentes|\n",
      "+-----------------+\n",
      "|              450|\n",
      "+-----------------+"
     ]
    }
   ],
   "source": [
    "# Se obtienen cuantas marcas diferentes hay en Basicos\n",
    "df_profecoBasicos.agg(countDistinct(\"marca\").alias(\"marcas_diferentes\")).show()"
   ]
  },
  {
   "cell_type": "markdown",
   "id": "2187776f-aa23-4380-8d00-9a49b694c50d",
   "metadata": {},
   "source": [
    "# ¿Cuál es la marca con mayor precio? ¿En qué estado?"
   ]
  },
  {
   "cell_type": "code",
   "execution_count": 21,
   "id": "c569ec9b-7edc-42e6-8722-de1801c0be10",
   "metadata": {},
   "outputs": [
    {
     "data": {
      "application/vnd.jupyter.widget-view+json": {
       "model_id": "",
       "version_major": 2,
       "version_minor": 0
      },
      "text/plain": [
       "FloatProgress(value=0.0, bar_style='info', description='Progress:', layout=Layout(height='25px', width='50%'),…"
      ]
     },
     "metadata": {},
     "output_type": "display_data"
    },
    {
     "name": "stdout",
     "output_type": "stream",
     "text": [
      "La marca con el mayor precio es: sin_marca, en el estado de tlaxcala y con precio de 899.0\n",
      "La siguiente marca con mayor precio distinta a sin_marca es: diva_cup, en el estado de guanajuato y con precio de 869.0"
     ]
    }
   ],
   "source": [
    "# Se obtiene la marca con mayor precio y el estado\n",
    "max_precio = df_profecoBasicos.orderBy(df_profecoBasicos.precio.desc()).first()\n",
    "# Se obtiene la marca con mayor precio y el estado sin considerar \"sin_marca\"\n",
    "next_max_precio = (df_profecoBasicos.filter(col(\"marca\") != \"sin_marca\")).orderBy(col(\"precio\").desc()).first()\n",
    "\n",
    "print(f\"La marca con el mayor precio es: {max_precio['marca']}, en el estado de {max_precio['estado']} y con precio de {max_precio['precio']}\")\n",
    "print(f\"La siguiente marca con mayor precio distinta a sin_marca es: {next_max_precio['marca']}, en el estado de {next_max_precio['estado']} y con precio de {next_max_precio['precio']}\")"
   ]
  },
  {
   "cell_type": "markdown",
   "id": "eecbf252-26e0-430b-b67f-33ac931e6f6e",
   "metadata": {},
   "source": [
    "# ¿Cuál es la marca con menor precio en CDMX? (en aquel entonces Distrito Federal)"
   ]
  },
  {
   "cell_type": "code",
   "execution_count": 22,
   "id": "0ba10a4c-5b93-4054-afce-ab5721524d6e",
   "metadata": {},
   "outputs": [
    {
     "data": {
      "application/vnd.jupyter.widget-view+json": {
       "model_id": "",
       "version_major": 2,
       "version_minor": 0
      },
      "text/plain": [
       "FloatProgress(value=0.0, bar_style='info', description='Progress:', layout=Layout(height='25px', width='50%'),…"
      ]
     },
     "metadata": {},
     "output_type": "display_data"
    },
    {
     "name": "stdout",
     "output_type": "stream",
     "text": [
      "La marca con el menor precio es: sin_marca, en la ciudad_de_mexico y con precio de 1.0\n",
      "La siguiente marca con el menor precio, distinta a sin_marca es: clight, en la ciudad_de_mexico y con precio de 1.2"
     ]
    }
   ],
   "source": [
    "# Se obtiene la marca con menor precio en la CDMX\n",
    "min_precio = (df_profecoBasicos.filter(col(\"estado\") == \"ciudad_de_mexico\")).orderBy(df_profecoBasicos.precio.asc()).first()\n",
    "# Se obtiene la marca con menor precio en la CDMX sin considerar \"sin_marca\"\n",
    "next_min_precio = ((df_profecoBasicos.filter(col(\"estado\") == \"ciudad_de_mexico\")).filter(col(\"marca\") != \"sin_marca\")).orderBy(df_profecoBasicos.precio.asc()).first()\n",
    "\n",
    "print(f\"La marca con el menor precio es: {min_precio['marca']}, en la {min_precio['estado']} y con precio de {min_precio['precio']}\")\n",
    "print(f\"La siguiente marca con el menor precio, distinta a sin_marca es: {next_min_precio['marca']}, en la {next_min_precio['estado']} y con precio de {next_min_precio['precio']}\")"
   ]
  },
  {
   "cell_type": "markdown",
   "id": "30d045a5-c35b-4a83-b0d4-2f93249ec7fd",
   "metadata": {},
   "source": [
    "# ¿Cuál es la marca con mayores observaciones?"
   ]
  },
  {
   "cell_type": "code",
   "execution_count": 23,
   "id": "8de8fd67-fd1b-452b-84bc-372f5f4725da",
   "metadata": {},
   "outputs": [
    {
     "data": {
      "application/vnd.jupyter.widget-view+json": {
       "model_id": "",
       "version_major": 2,
       "version_minor": 0
      },
      "text/plain": [
       "FloatProgress(value=0.0, bar_style='info', description='Progress:', layout=Layout(height='25px', width='50%'),…"
      ]
     },
     "metadata": {},
     "output_type": "display_data"
    },
    {
     "name": "stdout",
     "output_type": "stream",
     "text": [
      "+----------+-------+\n",
      "|     marca| Conteo|\n",
      "+----------+-------+\n",
      "| sin_marca|2763012|\n",
      "|la_costena|1311513|\n",
      "|       fud|1205957|\n",
      "| coca_cola|1195553|\n",
      "|      lala|1114597|\n",
      "+----------+-------+\n",
      "only showing top 5 rows"
     ]
    }
   ],
   "source": [
    "# Se muestra la marca con más observaciones de Básicos\n",
    "df_profecoBasicos.groupBy(\"marca\").agg(count(\"marca\").alias(\"Conteo\")) \\\n",
    "                                    .orderBy(\"Conteo\", ascending=False) \\\n",
    "                                    .show(5) "
   ]
  },
  {
   "cell_type": "markdown",
   "id": "514b5c06-8546-4e04-b9e4-9fe2a8872a4d",
   "metadata": {},
   "source": [
    "#### *La marca con mayores observaciones es \"sin marca\" con 2,763,012 observaciones, le sigue \"la costeña\" con 1,311,513 observaciones.*"
   ]
  },
  {
   "cell_type": "markdown",
   "id": "0ceb4493-bff9-4a84-9d83-1b34c940323b",
   "metadata": {},
   "source": [
    "# ¿Cuáles son el top 5 de marcas con mayor precio en cada estado? ¿Son diferentes?"
   ]
  },
  {
   "cell_type": "code",
   "execution_count": 24,
   "id": "c8706fca-e553-4fed-9234-5cd81196efa1",
   "metadata": {},
   "outputs": [
    {
     "data": {
      "application/vnd.jupyter.widget-view+json": {
       "model_id": "",
       "version_major": 2,
       "version_minor": 0
      },
      "text/plain": [
       "FloatProgress(value=0.0, bar_style='info', description='Progress:', layout=Layout(height='25px', width='50%'),…"
      ]
     },
     "metadata": {},
     "output_type": "display_data"
    },
    {
     "name": "stdout",
     "output_type": "stream",
     "text": [
      "+----+--------------------+--------------+----------+\n",
      "|rank|estado              |marca         |precio_max|\n",
      "+----+--------------------+--------------+----------+\n",
      "|1   |aguascalientes      |saba          |609.0     |\n",
      "|2   |aguascalientes      |sin_marca     |570.0     |\n",
      "|3   |aguascalientes      |diva_cup      |559.48    |\n",
      "|4   |aguascalientes      |cazadores     |505.0     |\n",
      "|5   |aguascalientes      |jose_cuervo   |485.0     |\n",
      "|1   |baja_california     |sin_marca     |659.9     |\n",
      "|2   |baja_california     |diva_cup      |614.0     |\n",
      "|3   |baja_california     |saba          |609.0     |\n",
      "|4   |baja_california     |jose_cuervo   |484.0     |\n",
      "|5   |baja_california     |huggies       |470.5     |\n",
      "|1   |baja_california_sur |diva_cup      |690.0     |\n",
      "|2   |baja_california_sur |sin_marca     |685.0     |\n",
      "|3   |baja_california_sur |saba          |580.0     |\n",
      "|4   |baja_california_sur |huggies       |495.0     |\n",
      "|5   |baja_california_sur |cazadores     |489.0     |\n",
      "|1   |campeche            |saba          |580.0     |\n",
      "|2   |campeche            |sin_marca     |570.0     |\n",
      "|3   |campeche            |huggies       |501.0     |\n",
      "|4   |campeche            |jose_cuervo   |499.0     |\n",
      "|5   |campeche            |cazadores     |489.0     |\n",
      "|1   |chiapas             |diva_cup      |598.0     |\n",
      "|2   |chiapas             |saba          |580.0     |\n",
      "|3   |chiapas             |sin_marca     |526.0     |\n",
      "|4   |chiapas             |huggies       |495.0     |\n",
      "|5   |chiapas             |jose_cuervo   |479.0     |\n",
      "|1   |chihuahua           |diva_cup      |619.9     |\n",
      "|2   |chihuahua           |saba          |585.99    |\n",
      "|3   |chihuahua           |cazadores     |556.0     |\n",
      "|4   |chihuahua           |sin_marca     |526.0     |\n",
      "|5   |chihuahua           |jose_cuervo   |506.0     |\n",
      "|1   |ciudad_de_mexico    |diva_cup      |695.0     |\n",
      "|2   |ciudad_de_mexico    |sin_marca     |659.0     |\n",
      "|3   |ciudad_de_mexico    |saba          |609.0     |\n",
      "|4   |ciudad_de_mexico    |cazadores     |565.0     |\n",
      "|5   |ciudad_de_mexico    |fud           |549.0     |\n",
      "|1   |coahuila_de_zaragoza|sin_marca     |659.9     |\n",
      "|2   |coahuila_de_zaragoza|diva_cup      |619.9     |\n",
      "|3   |coahuila_de_zaragoza|saba          |580.0     |\n",
      "|4   |coahuila_de_zaragoza|fud           |548.0     |\n",
      "|5   |coahuila_de_zaragoza|cazadores     |499.0     |\n",
      "|1   |colima              |sin_marca     |470.0     |\n",
      "|2   |colima              |jose_cuervo   |378.0     |\n",
      "|3   |colima              |fud           |341.9     |\n",
      "|4   |colima              |johnnie_walker|329.0     |\n",
      "|5   |colima              |huggies       |325.0     |\n",
      "|1   |durango             |diva_cup      |619.9     |\n",
      "|2   |durango             |sin_marca     |589.0     |\n",
      "|3   |durango             |cazadores     |515.0     |\n",
      "|4   |durango             |huggies       |501.0     |\n",
      "|5   |durango             |jose_cuervo   |485.0     |\n",
      "|1   |estado_de_mexico    |diva_cup      |690.0     |\n",
      "|2   |estado_de_mexico    |sin_marca     |659.0     |\n",
      "|3   |estado_de_mexico    |saba          |609.0     |\n",
      "|4   |estado_de_mexico    |fud           |548.0     |\n",
      "|5   |estado_de_mexico    |huggies       |525.0     |\n",
      "|1   |guanajuato          |diva_cup      |869.0     |\n",
      "|2   |guanajuato          |sin_marca     |685.0     |\n",
      "|3   |guanajuato          |saba          |612.0     |\n",
      "|4   |guanajuato          |cazadores     |519.0     |\n",
      "|5   |guanajuato          |huggies       |505.0     |\n",
      "|1   |guerrero            |saba          |609.0     |\n",
      "|2   |guerrero            |diva_cup      |598.0     |\n",
      "|3   |guerrero            |sin_marca     |549.0     |\n",
      "|4   |guerrero            |cazadores     |538.3     |\n",
      "|5   |guerrero            |huggies       |524.9     |\n",
      "|1   |hidalgo             |saba          |580.0     |\n",
      "|2   |hidalgo             |sin_marca     |539.0     |\n",
      "|3   |hidalgo             |huggies       |501.0     |\n",
      "|4   |hidalgo             |cazadores     |499.0     |\n",
      "|5   |hidalgo             |jose_cuervo   |429.0     |\n",
      "|1   |jalisco             |diva_cup      |690.0     |\n",
      "|2   |jalisco             |saba          |609.0     |\n",
      "|3   |jalisco             |sin_marca     |570.0     |\n",
      "|4   |jalisco             |cazadores     |499.0     |\n",
      "|5   |jalisco             |jose_cuervo   |489.0     |\n",
      "|1   |michoacan_de_ocampo |saba          |609.0     |\n",
      "|2   |michoacan_de_ocampo |sin_marca     |571.1     |\n",
      "|3   |michoacan_de_ocampo |cazadores     |515.0     |\n",
      "|4   |michoacan_de_ocampo |huggies       |501.0     |\n",
      "|5   |michoacan_de_ocampo |jose_cuervo   |491.0     |\n",
      "|1   |morelos             |diva_cup      |690.0     |\n",
      "|2   |morelos             |saba          |558.5     |\n",
      "|3   |morelos             |sin_marca     |539.0     |\n",
      "|4   |morelos             |cazadores     |499.0     |\n",
      "|5   |morelos             |jose_cuervo   |491.01    |\n",
      "|1   |nayarit             |sin_marca     |659.9     |\n",
      "|2   |nayarit             |jose_cuervo   |325.0     |\n",
      "|3   |nayarit             |johnnie_walker|322.0     |\n",
      "|4   |nayarit             |huggies       |315.0     |\n",
      "|5   |nayarit             |torres        |290.0     |\n",
      "|1   |nuevo_leon          |sin_marca     |799.0     |\n",
      "|2   |nuevo_leon          |diva_cup      |690.0     |\n",
      "|3   |nuevo_leon          |saba          |615.0     |\n",
      "|4   |nuevo_leon          |filippo_berio |553.0     |\n",
      "|5   |nuevo_leon          |jose_cuervo   |505.0     |\n",
      "|1   |oaxaca              |diva_cup      |598.0     |\n",
      "|2   |oaxaca              |saba          |580.0     |\n",
      "|3   |oaxaca              |sin_marca     |570.0     |\n",
      "|4   |oaxaca              |jose_cuervo   |517.0     |\n",
      "|5   |oaxaca              |huggies       |501.0     |\n",
      "|1   |puebla              |diva_cup      |680.0     |\n",
      "|2   |puebla              |sin_marca     |659.0     |\n",
      "|3   |puebla              |huggies       |509.0     |\n",
      "|4   |puebla              |jose_cuervo   |491.0     |\n",
      "|5   |puebla              |cazadores     |489.0     |\n",
      "|1   |queretaro           |diva_cup      |690.0     |\n",
      "|2   |queretaro           |sin_marca     |659.0     |\n",
      "|3   |queretaro           |saba          |580.0     |\n",
      "|4   |queretaro           |cazadores     |505.0     |\n",
      "|5   |queretaro           |huggies       |505.0     |\n",
      "|1   |quintana_roo        |diva_cup      |740.0     |\n",
      "|2   |quintana_roo        |saba          |609.0     |\n",
      "|3   |quintana_roo        |sin_marca     |570.0     |\n",
      "|4   |quintana_roo        |cazadores     |525.0     |\n",
      "|5   |quintana_roo        |huggies       |501.0     |\n",
      "|1   |san_luis_potosi     |sin_marca     |689.0     |\n",
      "|2   |san_luis_potosi     |diva_cup      |649.0     |\n",
      "|3   |san_luis_potosi     |saba          |609.0     |\n",
      "|4   |san_luis_potosi     |cazadores     |499.0     |\n",
      "|5   |san_luis_potosi     |jose_cuervo   |491.0     |\n",
      "|1   |sinaloa             |sin_marca     |659.9     |\n",
      "|2   |sinaloa             |jose_cuervo   |458.0     |\n",
      "|3   |sinaloa             |cazadores     |436.0     |\n",
      "|4   |sinaloa             |huggies       |429.0     |\n",
      "|5   |sinaloa             |kleen_bebe    |396.5     |\n",
      "|1   |sonora              |sin_marca     |685.0     |\n",
      "|2   |sonora              |saba          |580.0     |\n",
      "|3   |sonora              |cazadores     |479.0     |\n",
      "|4   |sonora              |huggies       |475.0     |\n",
      "|5   |sonora              |jose_cuervo   |469.0     |\n",
      "|1   |tabasco             |diva_cup      |598.0     |\n",
      "|2   |tabasco             |saba          |580.0     |\n",
      "|3   |tabasco             |sin_marca     |570.0     |\n",
      "|4   |tabasco             |huggies       |509.0     |\n",
      "|5   |tabasco             |cazadores     |499.0     |\n",
      "|1   |tamaulipas          |sin_marca     |669.0     |\n",
      "|2   |tamaulipas          |diva_cup      |598.0     |\n",
      "|3   |tamaulipas          |saba          |589.0     |\n",
      "|4   |tamaulipas          |fud           |548.0     |\n",
      "|5   |tamaulipas          |huggies       |531.0     |\n",
      "|1   |tlaxcala            |sin_marca     |899.0     |\n",
      "|2   |tlaxcala            |huggies       |501.0     |\n",
      "|3   |tlaxcala            |cazadores     |495.0     |\n",
      "|4   |tlaxcala            |jose_cuervo   |485.0     |\n",
      "|5   |tlaxcala            |torres        |456.4     |\n",
      "|1   |veracruz            |diva_cup      |690.0     |\n",
      "|2   |veracruz            |sin_marca     |544.0     |\n",
      "|3   |veracruz            |huggies       |529.0     |\n",
      "|4   |veracruz            |cazadores     |505.0     |\n",
      "|5   |veracruz            |jose_cuervo   |489.0     |\n",
      "|1   |yucatan             |saba          |580.0     |\n",
      "|2   |yucatan             |sin_marca     |570.0     |\n",
      "|3   |yucatan             |jose_cuervo   |530.5     |\n",
      "|4   |yucatan             |huggies       |501.0     |\n",
      "|5   |yucatan             |cazadores     |495.0     |\n",
      "|1   |zacatecas           |diva_cup      |690.0     |\n",
      "|2   |zacatecas           |sin_marca     |654.9     |\n",
      "|3   |zacatecas           |saba          |609.0     |\n",
      "|4   |zacatecas           |jose_cuervo   |506.0     |\n",
      "|5   |zacatecas           |cazadores     |499.0     |\n",
      "+----+--------------------+--------------+----------+\n",
      "\n",
      "+--------------+\n",
      "|marca         |\n",
      "+--------------+\n",
      "|huggies       |\n",
      "|sin_marca     |\n",
      "|filippo_berio |\n",
      "|saba          |\n",
      "|torres        |\n",
      "|cazadores     |\n",
      "|fud           |\n",
      "|diva_cup      |\n",
      "|kleen_bebe    |\n",
      "|jose_cuervo   |\n",
      "|johnnie_walker|\n",
      "+--------------+"
     ]
    }
   ],
   "source": [
    "windowSpecPrice = Window.partitionBy(\"estado\", \"marca\")\n",
    "# Se obtienen los precios máximos por estado\n",
    "df_precio_max = df_profecoBasicos.withColumn(\"precio_max\", max(\"precio\").over(windowSpecPrice))\n",
    "# Se eliminan los duplicados\n",
    "df_precio_max = df_precio_max.dropDuplicates([\"estado\", \"marca\", \"precio_max\"])\n",
    "windowSpecRank = Window.partitionBy(\"estado\").orderBy(col(\"precio_max\").desc())\n",
    "df_rank = df_precio_max.withColumn(\"rank\", row_number().over(windowSpecRank))\n",
    "# Se obtiene el top 5 de marcas con mayor precio en cada estado\n",
    "top5_marcas_edo = df_rank.filter(col(\"rank\") <= 5)\n",
    "top5_marcas_edo.select(\"rank\", \"estado\", \"marca\", \"precio_max\").show(200, truncate=False)\n",
    "# Se muestran una tabla con las marcas unicas con mayor precio en cada estado\n",
    "(top5_marcas_edo.select(\"marca\").distinct()).show(truncate=False)"
   ]
  },
  {
   "cell_type": "markdown",
   "id": "aa60b77d-c3dd-4850-9e54-99e384728ad7",
   "metadata": {},
   "source": [
    "#### *El top 5 de marcas con mayor precio en cada estado, arrojan 11 marcas distintas, por lo que no cambian mucho entre si, las marcas se muestran en un cuadro al final de la consulta* "
   ]
  },
  {
   "cell_type": "markdown",
   "id": "8d043544-7859-467a-a103-b2bd44c3efce",
   "metadata": {},
   "source": [
    "# ¿Cuáles son el top 5 de marcas con menor precio en CDMX? (en aquel entonces Distrito Federal)"
   ]
  },
  {
   "cell_type": "code",
   "execution_count": 25,
   "id": "3cf074b4-83ae-4ec7-a42c-f3dae258b70e",
   "metadata": {},
   "outputs": [
    {
     "data": {
      "application/vnd.jupyter.widget-view+json": {
       "model_id": "",
       "version_major": 2,
       "version_minor": 0
      },
      "text/plain": [
       "FloatProgress(value=0.0, bar_style='info', description='Progress:', layout=Layout(height='25px', width='50%'),…"
      ]
     },
     "metadata": {},
     "output_type": "display_data"
    },
    {
     "name": "stdout",
     "output_type": "stream",
     "text": [
      "+----+----------------+---------+----------+\n",
      "|rank|estado          |marca    |precio_min|\n",
      "+----+----------------+---------+----------+\n",
      "|1   |ciudad_de_mexico|sin_marca|1.0       |\n",
      "|2   |ciudad_de_mexico|clight   |1.2       |\n",
      "|3   |ciudad_de_mexico|frutimax |1.5       |\n",
      "|4   |ciudad_de_mexico|fud      |2.0       |\n",
      "|5   |ciudad_de_mexico|zuko     |2.0       |\n",
      "+----+----------------+---------+----------+"
     ]
    }
   ],
   "source": [
    "windowSpecPrice = Window.partitionBy(\"estado\", \"marca\")\n",
    "# Se calcula el precio minimo en cada estado\n",
    "df_precio_min = df_profecoBasicos.withColumn(\"precio_min\", min(\"precio\").over(windowSpecPrice))\n",
    "# Se eliminan los duplicados\n",
    "df_precio_min = df_precio_min.dropDuplicates([\"estado\", \"marca\", \"precio_min\"])\n",
    "\n",
    "windowSpecRank = Window.partitionBy(\"estado\").orderBy(col(\"precio_min\").asc())\n",
    "df_rank = df_precio_min.withColumn(\"rank\", row_number().over(windowSpecRank))\n",
    "# Se obtiene el top 5 de marcas con menor precio en CDMX\n",
    "top5_marcas_cdmx = df_rank.filter((col(\"rank\") <= 5) & (col(\"estado\") == \"ciudad_de_mexico\"))\n",
    "top5_marcas_cdmx.select(\"rank\", \"estado\", \"marca\", \"precio_min\").show(truncate=False)"
   ]
  },
  {
   "cell_type": "markdown",
   "id": "a8f3aef7-4aee-4ccf-9b21-7175a2a2a00d",
   "metadata": {},
   "source": [
    "#### *El top 5 de marcas distintas entre si, con precios menores en CDMX son sin marca, clight, frutimax, zuko y fud.*"
   ]
  },
  {
   "cell_type": "markdown",
   "id": "34a60cd1-7b30-4a6b-9e90-2a8d0220b90e",
   "metadata": {},
   "source": [
    "# ¿Cuáles son el top 5 de marcas con mayores observaciones? ¿Se parecen a las de nivel por estado?"
   ]
  },
  {
   "cell_type": "code",
   "execution_count": 26,
   "id": "a58ac016-eacd-4bc7-b139-9e8065b37e7f",
   "metadata": {},
   "outputs": [
    {
     "data": {
      "application/vnd.jupyter.widget-view+json": {
       "model_id": "",
       "version_major": 2,
       "version_minor": 0
      },
      "text/plain": [
       "FloatProgress(value=0.0, bar_style='info', description='Progress:', layout=Layout(height='25px', width='50%'),…"
      ]
     },
     "metadata": {},
     "output_type": "display_data"
    },
    {
     "name": "stdout",
     "output_type": "stream",
     "text": [
      "+----------+-------+\n",
      "|     marca| Conteo|\n",
      "+----------+-------+\n",
      "| sin_marca|2763012|\n",
      "|la_costena|1311513|\n",
      "|       fud|1205957|\n",
      "| coca_cola|1195553|\n",
      "|      lala|1114597|\n",
      "|    alpura|1018849|\n",
      "+----------+-------+"
     ]
    }
   ],
   "source": [
    "# Se muestra el top 5 de marcas con mayores observaciones\n",
    "marcas_obsTop5 = df_profecoBasicos.groupBy(\"marca\").agg(count(\"marca\").alias(\"Conteo\")) \\\n",
    "                                    .orderBy(\"Conteo\", ascending=False) \\\n",
    "                                    .limit(6)\n",
    "marcas_obsTop5.show(6)"
   ]
  },
  {
   "cell_type": "markdown",
   "id": "d0caece1-9c91-4cbf-907f-4753274f30f2",
   "metadata": {},
   "source": [
    "#### *La única marca que se repite es \"sin marca\", las demas no se parecen*"
   ]
  },
  {
   "cell_type": "markdown",
   "id": "1a1c396b-a183-4767-9730-7822ebb55ef5",
   "metadata": {},
   "source": [
    "# ¿Ha dejado de existir alguna marca durante los años que tienes? ¿Cuál? ¿Cuándo desapareció?"
   ]
  },
  {
   "cell_type": "code",
   "execution_count": 28,
   "id": "d5e56dde-544f-4692-94fd-0da289ba1646",
   "metadata": {},
   "outputs": [
    {
     "data": {
      "application/vnd.jupyter.widget-view+json": {
       "model_id": "",
       "version_major": 2,
       "version_minor": 0
      },
      "text/plain": [
       "FloatProgress(value=0.0, bar_style='info', description='Progress:', layout=Layout(height='25px', width='50%'),…"
      ]
     },
     "metadata": {},
     "output_type": "display_data"
    },
    {
     "name": "stdout",
     "output_type": "stream",
     "text": [
      "Las marcas desaparecidas en 2019 son: {'manzana_lift', 'vita_real', 'lyncott', 'el_yuka', 'big_cola', 'yemina', 'philips', 'rosa_blanca', 'chalet', 'morelos'}\n",
      "Las marcas desaparecidas en 2020 son: {'crackets', 'campo_fresco', 'nordiko', 'grano_de_oro', 'Schwarzkopf', 'rosa_venus', 'carlos_v_nestle', 'geenergy', 'el_pomar', 'bebin', 'schick', 'valle_redondo', 'snickers', 'alfaparf', 'parmalat', 'labello', 'revlon', 'fortident'}\n",
      "Las marcas desaparecidas en 2021 son: {'el_dorado', 'la_gloria', 'patrona', 'lys', 'pacifico', 'soberano'}\n",
      "Las marcas desaparecidas en 2022 son: {'kartamus', 'grano_de_oro', 'oust', 'el_cerdito', 'mundet_lift'}\n",
      "Las marcas desaparecidas en 2023 son: {'maravilla', 'el_yuka', 'bebin', 'aunt_jemima', 'maceite'}\n",
      "Las marcas desaparecidas en 2024 son: {'frutimax', 'san_diego', 'alei', 'paisa', 'hada', 'lyncott', 'quality_day', 'delsey_max', 'dolce_kristal', 'svelty'}"
     ]
    }
   ],
   "source": [
    "# Se extrae los años únicos\n",
    "years = df_profecoBasicos.select(\"anio\").distinct().orderBy(\"anio\").rdd.flatMap(lambda x: x).collect()\n",
    "# Se crean de un diccionario de marcas por año\n",
    "marcas_por_anio = {}\n",
    "for year in years:\n",
    "    marcas = df_profecoBasicos.filter(col(\"anio\") == year).select(\"marca\").distinct().rdd.flatMap(lambda x: x).collect()\n",
    "    marcas_por_anio[year] = set(marcas)\n",
    "# Se determinan las marcas desaparecidas\n",
    "marcas_desaparecidas = {}\n",
    "for i in range(len(years)-1):\n",
    "    year_current = years[i]\n",
    "    year_next = years[i+1]\n",
    "    marcas_desaparecidas[year_next] = marcas_por_anio[year_current] - marcas_por_anio[year_next]\n",
    "# Se muestran los resultados\n",
    "for year in marcas_desaparecidas:\n",
    "    if marcas_desaparecidas[year]:\n",
    "        print(f\"Las marcas desaparecidas en {year} son: {marcas_desaparecidas[year]}\")\n",
    "    else:\n",
    "        print(f\"No hubo marcas desaparecidas en {year}.\")"
   ]
  },
  {
   "cell_type": "markdown",
   "id": "1b443a2c-899f-4c14-bcc8-abd65033d312",
   "metadata": {},
   "source": [
    "# **Genera una gráfica de serie de tiempo por estado para la marca con mayor precio -en todos los años-, donde el eje \"x\" es el año y el eje \"y\" es el precio máximo.**"
   ]
  },
  {
   "cell_type": "code",
   "execution_count": 52,
   "id": "1f96e6f8",
   "metadata": {},
   "outputs": [
    {
     "data": {
      "application/vnd.jupyter.widget-view+json": {
       "model_id": "",
       "version_major": 2,
       "version_minor": 0
      },
      "text/plain": [
       "FloatProgress(value=0.0, bar_style='info', description='Progress:', layout=Layout(height='25px', width='50%'),…"
      ]
     },
     "metadata": {},
     "output_type": "display_data"
    }
   ],
   "source": [
    "# Obtiene el resultado y lo manda a CSV en S3\n",
    "marca_precio_maximo = df_profecoBasicos.select(\"marca\", \"precio\").orderBy(col(\"precio\").desc()).limit(1).collect()\n",
    "marca_max = marca_precio_maximo[0][\"marca\"]\n",
    "datos_marca_max = df_profecoBasicos.filter(col(\"marca\") == marca_max)\n",
    "precios_maximos = datos_marca_max.groupBy(\"estado\", \"anio\").agg(max(\"precio\").alias(\"precio_maximo\")).orderBy(\"anio\", \"estado\")\n",
    "\n",
    "precios_maximos.write.csv(\"s3://proyectoprofeco/data/spark_outputs/precios_maximos\", header=True, mode='overwrite')"
   ]
  },
  {
   "cell_type": "code",
   "execution_count": 56,
   "id": "d74779a5",
   "metadata": {},
   "outputs": [
    {
     "data": {
      "application/vnd.jupyter.widget-view+json": {
       "model_id": "",
       "version_major": 2,
       "version_minor": 0
      },
      "text/plain": [
       "FloatProgress(value=0.0, bar_style='info', description='Progress:', layout=Layout(height='25px', width='50%'),…"
      ]
     },
     "metadata": {},
     "output_type": "display_data"
    },
    {
     "name": "stdout",
     "output_type": "stream",
     "text": [
      "+--------------------+------+------+------+------+------+------+------+\n",
      "|              estado|  2018|  2019|  2020|  2021|  2022|  2023|  2024|\n",
      "+--------------------+------+------+------+------+------+------+------+\n",
      "|      aguascalientes| 526.0| 490.0| 459.9| 489.0| 519.0| 570.0| 490.0|\n",
      "|     baja_california| 545.0| 659.9| 495.9| 429.0| 525.0| 544.0| 509.0|\n",
      "| baja_california_sur| 500.0| 659.9| 500.0| 525.0| 685.0| 685.0| 490.0|\n",
      "|            campeche| 506.0| 500.0| 499.0| 519.0| 526.0| 570.0| 499.0|\n",
      "|             chiapas| 500.0| 490.0| 459.9| 489.0| 526.0| 464.9| 269.9|\n",
      "|           chihuahua| 526.0| 439.9| 265.0| 300.0|399.99|349.99|350.99|\n",
      "|    ciudad_de_mexico|556.29|571.74| 552.2| 552.2| 659.0| 659.0| 595.0|\n",
      "|coahuila_de_zaragoza| 490.0| 659.9| 490.0| 534.0| 655.0| 659.0| 499.0|\n",
      "|              colima| 470.0| 270.0| 399.0|  NULL|  NULL|  NULL|  NULL|\n",
      "|             durango| 459.9| 459.9| 459.9| 509.9| 589.0| 589.0| 499.0|\n",
      "|    estado_de_mexico|556.29|571.74|554.16|554.16| 659.0| 659.0|579.87|\n",
      "|          guanajuato| 659.9| 659.9| 490.0| 525.0| 599.0| 685.0| 570.0|\n",
      "|            guerrero| 498.0| 490.0| 460.0| 489.0| 519.0| 549.0| 499.0|\n",
      "|             hidalgo| 475.0| 459.9| 409.0| 464.9| 489.0| 539.0| 529.0|\n",
      "|             jalisco| 527.0| 490.0| 490.0| 520.0| 529.0| 570.0| 490.0|\n",
      "| michoacan_de_ocampo| 506.0| 499.0| 459.9| 499.0| 519.0| 571.1| 526.0|\n",
      "|             morelos| 475.0| 450.0|494.58| 522.0| 526.0| 539.0| 526.0|\n",
      "|             nayarit| 490.0| 659.9| 459.9|  NULL|  NULL|  NULL|  NULL|\n",
      "|          nuevo_leon|599.99|499.99|540.99|499.99| 599.0| 599.0| 799.0|\n",
      "|              oaxaca| 500.0| 500.0| 470.0| 519.0| 526.0| 570.0| 526.0|\n",
      "+--------------------+------+------+------+------+------+------+------+\n",
      "only showing top 20 rows"
     ]
    }
   ],
   "source": [
    "precios_maximos = (\n",
    "    precios_maximos\n",
    "    .groupBy(\"estado\")\n",
    "    .pivot(\"anio\")\n",
    "    .agg(first(\"precio_maximo\"))\n",
    "    .orderBy(\"estado\")\n",
    ")\n",
    "precios_maximos.show()"
   ]
  },
  {
   "cell_type": "markdown",
   "id": "fee80ff9",
   "metadata": {},
   "source": [
    "<span style=\"color:blue\"> El código siguiente se ejecutó localmente para utilizar\n",
    "bibliotecas de visualización gráfica, se incluye imagen de gráfica resultante </span>"
   ]
  },
  {
   "cell_type": "code",
   "execution_count": null,
   "id": "ec69bd6c",
   "metadata": {},
   "outputs": [],
   "source": [
    "plt.style.use('seaborn-v0_8-pastel')\n",
    "# Se obtiene la marca con mayor precio\n",
    "marca_precio_maximo = df_profecoBasicos.select(\"marca\", \"precio\").orderBy(col(\"precio\").desc()).limit(1).collect()\n",
    "marca_max = marca_precio_maximo[0][\"marca\"]\n",
    "datos_marca_max = df_profecoBasicos.filter(col(\"marca\") == marca_max)\n",
    "precios_maximos = datos_marca_max.groupBy(\"estado\", \"anio\").agg(max(\"precio\").alias(\"precio_maximo\")).orderBy(\"anio\", \"estado\")\n",
    "precios_maximos_pandas = precios_maximos.toPandas()\n",
    "precios_maximos_pivot = precios_maximos_pandas.pivot(index='estado', columns='anio', values='precio_maximo')\n",
    "\n",
    "# Función que actualiza la gráfica\n",
    "def update_grafico(estado):\n",
    "    plt.figure(figsize=(12, 8))\n",
    "    plt.plot(precios_maximos_pivot.columns, precios_maximos_pivot.loc[estado], marker='o', linestyle='-', color='dodgerblue', markersize=8)\n",
    "    plt.title(f'Evolución del precio máximo anual en {estado} para la marca {marca_max}', fontsize=16, fontweight='bold')\n",
    "    plt.xlabel('Año', fontsize=14)\n",
    "    plt.ylabel('Precio máximo (MXN)', fontsize=14)\n",
    "    plt.xticks(fontsize=12)\n",
    "    plt.yticks(fontsize=12)\n",
    "    plt.grid(True, linestyle='--', linewidth=0.5)\n",
    "    plt.show()\n",
    "# Seleccionador de estado\n",
    "estado_selector = widgets.Dropdown(\n",
    "    options=precios_maximos_pivot.index.tolist(),\n",
    "    value=precios_maximos_pivot.index[0],\n",
    "    description='Estado:',\n",
    "    disabled=False,\n",
    ")\n",
    "widgets.interact(update_grafico, estado=estado_selector)"
   ]
  },
  {
   "attachments": {
    "precio_max_por_marca.jpeg": {
     "image/jpeg": "[encoded data removed]"
    }
   },
   "cell_type": "markdown",
   "id": "9e3ab410",
   "metadata": {},
   "source": [
    "![precio_max_por_marca.jpeg](attachment:precio_max_por_marca.jpeg)"
   ]
  },
  {
   "cell_type": "markdown",
   "id": "c5003066",
   "metadata": {},
   "source": [
    "<span style=\"color:blue\"> Se incluye gráfica de la marca con mayor precio excluyendo sin_marca </span>"
   ]
  },
  {
   "cell_type": "code",
   "execution_count": null,
   "id": "1cdc0d7d",
   "metadata": {},
   "outputs": [],
   "source": [
    "import matplotlib.pyplot as plt\n",
    "import pandas as pd\n",
    "from pyspark.sql import SparkSession\n",
    "from pyspark.sql.functions import col, max\n",
    "\n",
    "# Configuración de estilo de la gráfica\n",
    "plt.style.use('seaborn-v0_8-pastel')\n",
    "\n",
    "# Iniciar sesión Spark\n",
    "spark = SparkSession.builder.appName(\"VisualizacionPreciosMaximos\").getOrCreate()\n",
    "\n",
    "# Cargar el DataFrame, suponiendo que df_profecoBasicos ya está definido en tu entorno de Spark\n",
    "\n",
    "# Filtrar para excluir la marca 'sin_marca'\n",
    "df_filtrado = df_profecoBasicos.filter(col(\"marca\") != \"sin_marca\")\n",
    "\n",
    "# Se obtiene la marca con mayor precio excluyendo 'sin_marca'\n",
    "marca_precio_maximo = df_filtrado.select(\"marca\", \"precio\").orderBy(col(\"precio\").desc()).limit(1).collect()\n",
    "marca_max = marca_precio_maximo[0][\"marca\"]\n",
    "\n",
    "# Filtrar los datos para la marca con mayor precio y calcular el precio máximo por estado y año\n",
    "datos_marca_max = df_profecoBasicos.filter(col(\"marca\") == marca_max)\n",
    "precios_maximos = datos_marca_max.groupBy(\"estado\", \"anio\").agg(max(\"precio\").alias(\"precio_maximo\")).orderBy(\"anio\", \"estado\")\n",
    "\n",
    "# Convertir Spark DataFrame a Pandas DataFrame para facilitar la visualización\n",
    "precios_maximos_pandas = precios_maximos.toPandas()\n",
    "precios_maximos_pivot = precios_maximos_pandas.pivot(index='estado', columns='anio', values='precio_maximo')\n",
    "\n",
    "# Crear la gráfica de líneas para todos los estados\n",
    "plt.figure(figsize=(12, 8))\n",
    "for estado in precios_maximos_pivot.index:\n",
    "    plt.plot(precios_maximos_pivot.columns, precios_maximos_pivot.loc[estado], marker='o', linestyle='-', label=estado, markersize=8)\n",
    "\n",
    "plt.title(f'Evolución del precio máximo anual para la marca {marca_max}', fontsize=16, fontweight='bold')\n",
    "plt.xlabel('Año', fontsize=14)\n",
    "plt.ylabel('Precio máximo (MXN)', fontsize=14)\n",
    "# Formatear las etiquetas del eje x para mostrar los años como enteros\n",
    "plt.xticks(ticks=precios_maximos_pivot.columns, labels=precios_maximos_pivot.columns.astype(int), fontsize=12)\n",
    "plt.yticks(fontsize=12)\n",
    "plt.legend(title='Estado', bbox_to_anchor=(1.05, 1), loc='upper left')\n",
    "plt.grid(True, linestyle='--', linewidth=0.5)\n",
    "plt.tight_layout()\n",
    "plt.show()"
   ]
  },
  {
   "attachments": {
    "precio_max_por_marca_b.jpeg": {
     "image/jpeg": "[encoded data removed]"
    }
   },
   "cell_type": "markdown",
   "id": "5bae6cfd",
   "metadata": {},
   "source": [
    "![precio_max_por_marca_b.jpeg](attachment:precio_max_por_marca_b.jpeg)"
   ]
  },
  {
   "cell_type": "markdown",
   "id": "52a4d10d-84ab-4626-83ce-9bf042990a47",
   "metadata": {},
   "source": [
    "## **Nota**: Recuerden descargar del cluster su análisis en Jupyter, de otra manera se borrará.\n",
    "## **Hint**: Guarda tus consultas en archivos que puedas guardar en S3 y luego leer desde Pandas o RStudio, para hacer tus gráficas o cuadros compartivos."
   ]
  }
 ],
 "metadata": {
  "kernelspec": {
   "display_name": "PySpark",
   "language": "python",
   "name": "pysparkkernel"
  },
  "language_info": {
   "codemirror_mode": {
    "name": "python",
    "version": 3
   },
   "file_extension": ".py",
   "mimetype": "text/x-python",
   "name": "pyspark",
   "pygments_lexer": "python3"
  }
 },
 "nbformat": 4,
 "nbformat_minor": 5
}
