{
 "cells": [
  {
   "cell_type": "code",
   "execution_count": 1,
   "id": "731f44f2",
   "metadata": {},
   "outputs": [
    {
     "name": "stdout",
     "output_type": "stream",
     "text": [
      "Starting Spark application\n"
     ]
    },
    {
     "data": {
      "text/html": [
       "<table>\n",
       "<tr><th>ID</th><th>YARN Application ID</th><th>Kind</th><th>State</th><th>Spark UI</th><th>Driver log</th><th>User</th><th>Current session?</th></tr><tr><td>0</td><td>application_1714242990235_0001</td><td>pyspark</td><td>idle</td><td><a target=\"_blank\" href=\"http://ip-172-31-32-246.ec2.internal:20888/proxy/application_1714242990235_0001/\">Link</a></td><td><a target=\"_blank\" href=\"http://ip-172-31-38-59.ec2.internal:8042/node/containerlogs/container_1714242990235_0001_01_000001/livy\">Link</a></td><td>None</td><td>✔</td></tr></table>"
      ],
      "text/plain": [
       "<IPython.core.display.HTML object>"
      ]
     },
     "metadata": {},
     "output_type": "display_data"
    },
    {
     "data": {
      "application/vnd.jupyter.widget-view+json": {
       "model_id": "",
       "version_major": 2,
       "version_minor": 0
      },
      "text/plain": [
       "FloatProgress(value=0.0, bar_style='info', description='Progress:', layout=Layout(height='25px', width='50%'),…"
      ]
     },
     "metadata": {},
     "output_type": "display_data"
    },
    {
     "name": "stdout",
     "output_type": "stream",
     "text": [
      "SparkSession available as 'spark'.\n"
     ]
    },
    {
     "data": {
      "application/vnd.jupyter.widget-view+json": {
       "model_id": "",
       "version_major": 2,
       "version_minor": 0
      },
      "text/plain": [
       "FloatProgress(value=0.0, bar_style='info', description='Progress:', layout=Layout(height='25px', width='50%'),…"
      ]
     },
     "metadata": {},
     "output_type": "display_data"
    }
   ],
   "source": [
    "# Librerías necesarias\n",
    "\n",
    "from datetime import datetime, date\n",
    "from pyspark.sql import SparkSession, Row\n",
    "from pyspark.sql.functions import (\n",
    "    col, max, count, countDistinct, first, regexp_replace, lower, coalesce,\n",
    "    year, month, to_date, lit, row_number, min, trim\n",
    ")\n",
    "from pyspark.sql.types import IntegerType, DateType, StructType, StringType, LongType, DoubleType, StructField\n",
    "from pyspark.sql.window import Window\n",
    "from pyspark.storagelevel import StorageLevel\n",
    "import pyspark.sql.functions as f"
   ]
  },
  {
   "cell_type": "code",
   "execution_count": 2,
   "id": "13796ef4",
   "metadata": {},
   "outputs": [
    {
     "data": {
      "application/vnd.jupyter.widget-view+json": {
       "model_id": "",
       "version_major": 2,
       "version_minor": 0
      },
      "text/plain": [
       "FloatProgress(value=0.0, bar_style='info', description='Progress:', layout=Layout(height='25px', width='50%'),…"
      ]
     },
     "metadata": {},
     "output_type": "display_data"
    }
   ],
   "source": [
    "# Se inicializa una sesión de spark\n",
    "spark = SparkSession.builder \\\n",
    "    .config(\"spark.executor.memory\", \"12g\") \\\n",
    "    .config(\"spark.driver.memory\", \"8g\") \\\n",
    "    .getOrCreate()"
   ]
  },
  {
   "cell_type": "code",
   "execution_count": 8,
   "id": "67d863a5",
   "metadata": {},
   "outputs": [
    {
     "data": {
      "application/vnd.jupyter.widget-view+json": {
       "model_id": "",
       "version_major": 2,
       "version_minor": 0
      },
      "text/plain": [
       "FloatProgress(value=0.0, bar_style='info', description='Progress:', layout=Layout(height='25px', width='50%'),…"
      ]
     },
     "metadata": {},
     "output_type": "display_data"
    }
   ],
   "source": [
    "# Se declara el path de donde se leerán los parquets\n",
    "path_data = \"s3://proyectoprofeco/data/parquets\"\n",
    "df_profecoBasicos = spark.read.parquet(f\"{path_data}/catalogo=basicos\")\n",
    "\n",
    "# Ruta al s3 que contiene el archivo de marcas únicas\n",
    "ruta_marcas = \"s3://proyectoprofeco/data/raw/marcas_basicos.csv\"\n",
    "\n",
    "# Se carga un catalogo de marcas únicas\n",
    "catalogo_df = spark.read.csv(ruta_marcas, header=True, inferSchema=True)"
   ]
  },
  {
   "cell_type": "code",
   "execution_count": 9,
   "id": "0d6b6b39",
   "metadata": {},
   "outputs": [
    {
     "data": {
      "application/vnd.jupyter.widget-view+json": {
       "model_id": "",
       "version_major": 2,
       "version_minor": 0
      },
      "text/plain": [
       "FloatProgress(value=0.0, bar_style='info', description='Progress:', layout=Layout(height='25px', width='50%'),…"
      ]
     },
     "metadata": {},
     "output_type": "display_data"
    },
    {
     "name": "stdout",
     "output_type": "stream",
     "text": [
      "+--------------------+--------------------+--------------------+--------------------+------+-------------+---------------+--------------------+--------------------+--------------------+----------------+--------------+---------+----------+----+\n",
      "|            producto|        presentacion|               marca|           categoria|precio|fecharegistro|cadenacomercial|                giro|     nombrecomercial|           direccion|          estado|     municipio|  latitud|  longitud|anio|\n",
      "+--------------------+--------------------+--------------------+--------------------+------+-------------+---------------+--------------------+--------------------+--------------------+----------------+--------------+---------+----------+----+\n",
      "|pollo rostizado. ...|pieza charola o b...|                  sm|alimentos cocinad...|  84.0|   2018-09-26|   mega soriana|supermercado / ti...|mega soriana sucu...|calz. mexico-tacu...|ciudad_de_mexico|miguel hidalgo|19.460236|-99.193576|2018|\n",
      "|     polvo p/hornear|        bote 220 gr.|               royal|         condimentos| 21.38|   2018-09-26|   mega soriana|supermercado / ti...|mega soriana sucu...|calz. mexico-tacu...|ciudad_de_mexico|miguel hidalgo|19.460236|-99.193576|2018|\n",
      "|     polvo p/hornear|        bote 454 gr.|               royal|         condimentos|  41.0|   2018-09-26|   mega soriana|supermercado / ti...|mega soriana sucu...|calz. mexico-tacu...|ciudad_de_mexico|miguel hidalgo|19.460236|-99.193576|2018|\n",
      "|polvo p/preparar ...| sobre 7 gr. naranja|              clight|chocolates y golo...|   2.5|   2018-09-26|   mega soriana|supermercado / ti...|mega soriana sucu...|calz. mexico-tacu...|ciudad_de_mexico|miguel hidalgo|19.460236|-99.193576|2018|\n",
      "|polvo p/preparar ...| sobre 7 gr. naranja|            frutimax|chocolates y golo...|   2.6|   2018-09-26|   mega soriana|supermercado / ti...|mega soriana sucu...|calz. mexico-tacu...|ciudad_de_mexico|miguel hidalgo|19.460236|-99.193576|2018|\n",
      "|polvo p/preparar ...|sobre 15 gr. nara...|                tang|chocolates y golo...|  2.65|   2018-09-26|   mega soriana|supermercado / ti...|mega soriana sucu...|calz. mexico-tacu...|ciudad_de_mexico|miguel hidalgo|19.460236|-99.193576|2018|\n",
      "|polvo p/preparar ...|sobre 15 gr. nara...|                zuko|chocolates y golo...|   2.5|   2018-09-26|   mega soriana|supermercado / ti...|mega soriana sucu...|calz. mexico-tacu...|ciudad_de_mexico|miguel hidalgo|19.460236|-99.193576|2018|\n",
      "|polvo para bebida...|bolsa 350 gr. con...|          choco_milk|chocolates y golo...|  24.5|   2018-09-26|   mega soriana|supermercado / ti...|mega soriana sucu...|calz. mexico-tacu...|ciudad_de_mexico|miguel hidalgo|19.460236|-99.193576|2018|\n",
      "|polvo para bebida...|lata 400 gr. con ...|          choco_milk|chocolates y golo...|  27.5|   2018-09-26|   mega soriana|supermercado / ti...|mega soriana sucu...|calz. mexico-tacu...|ciudad_de_mexico|miguel hidalgo|19.460236|-99.193576|2018|\n",
      "|polvo para bebida...|       bolsa 357 gr.|morelia_presidencial|chocolates y golo...|  20.5|   2018-09-26|   mega soriana|supermercado / ti...|mega soriana sucu...|calz. mexico-tacu...|ciudad_de_mexico|miguel hidalgo|19.460236|-99.193576|2018|\n",
      "|polvo para bebida...| bolsa 357 gr. cacao|             nesquik|chocolates y golo...|  33.1|   2018-09-26|   mega soriana|supermercado / ti...|mega soriana sucu...|calz. mexico-tacu...|ciudad_de_mexico|miguel hidalgo|19.460236|-99.193576|2018|\n",
      "|polvo para bebida...|  lata 400 gr. cacao|             nesquik|chocolates y golo...|  29.8|   2018-09-26|   mega soriana|supermercado / ti...|mega soriana sucu...|calz. mexico-tacu...|ciudad_de_mexico|miguel hidalgo|19.460236|-99.193576|2018|\n",
      "|     producto lacteo|ultrapasteurizado...|               nutri|     leche procesada|  14.8|   2018-09-26|   mega soriana|supermercado / ti...|mega soriana sucu...|calz. mexico-tacu...|ciudad_de_mexico|miguel hidalgo|19.460236|-99.193576|2018|\n",
      "|producto para dep...|caja con envase 1...|                veet|arts. para el cui...|  71.0|   2018-09-26|   mega soriana|supermercado / ti...|mega soriana sucu...|calz. mexico-tacu...|ciudad_de_mexico|miguel hidalgo|19.460236|-99.193576|2018|\n",
      "|      pure de tomate|caja 1 kg. tomate...|          del_fuerte|frutas y legumbre...|  22.0|   2018-09-26|   mega soriana|supermercado / ti...|mega soriana sucu...|calz. mexico-tacu...|ciudad_de_mexico|miguel hidalgo|19.460236|-99.193576|2018|\n",
      "|      pure de tomate|caja 1 kg. condim...|          la_costena|frutas y legumbre...|  19.0|   2018-09-26|   mega soriana|supermercado / ti...|mega soriana sucu...|calz. mexico-tacu...|ciudad_de_mexico|miguel hidalgo|19.460236|-99.193576|2018|\n",
      "|     queso americano|paquete 8 rebanad...|                lala|  derivados de leche| 23.25|   2018-09-26|   mega soriana|supermercado / ti...|mega soriana sucu...|calz. mexico-tacu...|ciudad_de_mexico|miguel hidalgo|19.460236|-99.193576|2018|\n",
      "|        queso cotija|        1 kg. granel|           esmeralda|  derivados de leche| 170.0|   2018-09-26|   mega soriana|supermercado / ti...|mega soriana sucu...|calz. mexico-tacu...|ciudad_de_mexico|miguel hidalgo|19.460236|-99.193576|2018|\n",
      "|     queso de puerco|1 kg. granel. que...|              alpino|carnes frias seca...| 111.5|   2018-09-26|   mega soriana|supermercado / ti...|mega soriana sucu...|calz. mexico-tacu...|ciudad_de_mexico|miguel hidalgo|19.460236|-99.193576|2018|\n",
      "|     queso de puerco|1 kg. granel. que...|                 fud|carnes frias seca...| 146.0|   2018-09-26|   mega soriana|supermercado / ti...|mega soriana sucu...|calz. mexico-tacu...|ciudad_de_mexico|miguel hidalgo|19.460236|-99.193576|2018|\n",
      "+--------------------+--------------------+--------------------+--------------------+------+-------------+---------------+--------------------+--------------------+--------------------+----------------+--------------+---------+----------+----+\n",
      "only showing top 20 rows"
     ]
    }
   ],
   "source": [
    "df_profecoBasicos.show()"
   ]
  },
  {
   "cell_type": "code",
   "execution_count": 10,
   "id": "ca1d5e3b",
   "metadata": {},
   "outputs": [
    {
     "data": {
      "application/vnd.jupyter.widget-view+json": {
       "model_id": "",
       "version_major": 2,
       "version_minor": 0
      },
      "text/plain": [
       "FloatProgress(value=0.0, bar_style='info', description='Progress:', layout=Layout(height='25px', width='50%'),…"
      ]
     },
     "metadata": {},
     "output_type": "display_data"
    },
    {
     "name": "stdout",
     "output_type": "stream",
     "text": [
      "root\n",
      " |-- producto: string (nullable = true)\n",
      " |-- presentacion: string (nullable = true)\n",
      " |-- categoria: string (nullable = true)\n",
      " |-- precio: double (nullable = true)\n",
      " |-- fecharegistro: date (nullable = true)\n",
      " |-- cadenacomercial: string (nullable = true)\n",
      " |-- giro: string (nullable = true)\n",
      " |-- nombrecomercial: string (nullable = true)\n",
      " |-- direccion: string (nullable = true)\n",
      " |-- estado: string (nullable = true)\n",
      " |-- municipio: string (nullable = true)\n",
      " |-- latitud: double (nullable = true)\n",
      " |-- longitud: double (nullable = true)\n",
      " |-- anio: integer (nullable = true)\n",
      " |-- marca: string (nullable = true)"
     ]
    }
   ],
   "source": [
    "# Se homologan las marcas dejando marcas unicas\n",
    "df_profecoBasicos = (df_profecoBasicos\n",
    "    .withColumn(\"norm_marca\", lower(regexp_replace(\"marca\", \"[\\- ]\", \"\")))\n",
    "    .join(catalogo_df, col(\"norm_marca\") == catalogo_df.marca, \"left\")\n",
    "    .withColumnRenamed(\"marca_distinct\", \"new_norm_marca\")\n",
    "    .withColumn(\"norm_marca\", coalesce(col(\"new_norm_marca\"), col(\"norm_marca\")))\n",
    "    .drop(\"new_norm_marca\", \"marca\")\n",
    "    .withColumnRenamed(\"norm_marca\", \"marca\")\n",
    ")\n",
    "\n",
    "df_profecoBasicos.printSchema()\n"
   ]
  },
  {
   "cell_type": "code",
   "execution_count": 11,
   "id": "6d7f2d88",
   "metadata": {},
   "outputs": [
    {
     "data": {
      "application/vnd.jupyter.widget-view+json": {
       "model_id": "",
       "version_major": 2,
       "version_minor": 0
      },
      "text/plain": [
       "FloatProgress(value=0.0, bar_style='info', description='Progress:', layout=Layout(height='25px', width='50%'),…"
      ]
     },
     "metadata": {},
     "output_type": "display_data"
    }
   ],
   "source": [
    "# Se guarda la información particionada en parquets\n",
    "(df_profecoBasicos\n",
    "     .write.parquet(\n",
    "         \"s3://proyectoprofeco/data/basicos/\", \n",
    "         mode=\"overwrite\", \n",
    "         partitionBy=[\"estado\", \"anio\"]\n",
    "     )\n",
    ")"
   ]
  }
 ],
 "metadata": {
  "kernelspec": {
   "display_name": "PySpark",
   "language": "python",
   "name": "pysparkkernel"
  },
  "language_info": {
   "codemirror_mode": {
    "name": "python",
    "version": 3
   },
   "file_extension": ".py",
   "mimetype": "text/x-python",
   "name": "pyspark",
   "pygments_lexer": "python3"
  }
 },
 "nbformat": 4,
 "nbformat_minor": 5
}
