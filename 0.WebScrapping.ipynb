{
 "cells": [
  {
   "cell_type": "markdown",
   "metadata": {},
   "source": [
    "# **Proyecto de Computo Distribuido**"
   ]
  },
  {
   "cell_type": "code",
   "execution_count": 3,
   "metadata": {
    "scrolled": true
   },
   "outputs": [
    {
     "name": "stdout",
     "output_type": "stream",
     "text": [
      "Descargando datos del año 2024...\n",
      "Datos del año 2024 descargados correctamente en data/raw/data_2024.rar\n",
      "Descargando datos del año 2023...\n",
      "Datos del año 2023 descargados correctamente en data/raw/data_2023.rar\n",
      "Descargando datos del año 2022...\n",
      "Datos del año 2022 descargados correctamente en data/raw/data_2022.rar\n",
      "Descargando datos del año 2021...\n",
      "Datos del año 2021 descargados correctamente en data/raw/data_2021.rar\n",
      "Descargando datos del año 2020...\n",
      "Datos del año 2020 descargados correctamente en data/raw/data_2020.rar\n",
      "Descargando datos del año 2019...\n",
      "Datos del año 2019 descargados correctamente en data/raw/data_2019.rar\n",
      "Descargando datos del año 2018...\n",
      "Datos del año 2018 descargados correctamente en data/raw/data_2018.rar\n"
     ]
    }
   ],
   "source": [
    "import requests\n",
    "import os\n",
    "\n",
    "# Diccionario con los años y sus correspondientes URLs de descarga\n",
    "urls = {\n",
    "    2024: \"https://datos.profeco.gob.mx/datos_abiertos/file.php?t=d96db96e920de49718814ea5715f6cd9\",\n",
    "    2023: \"https://datos.profeco.gob.mx/datos_abiertos/file.php?t=f3270d227f2966e6138a3ed41a9bbfb7\",\n",
    "    2022: \"https://datos.profeco.gob.mx/datos_abiertos/file.php?t=af88f42c5cb82c6c35dd962b1ae69051\",\n",
    "    2021: \"https://datos.profeco.gob.mx/datos_abiertos/file.php?t=493b83b886f0266909d783fc8f776b11\",\n",
    "    2020: \"https://datos.profeco.gob.mx/datos_abiertos/file.php?t=4df382eefa26f1f0d28d3a11aaf41add\",\n",
    "    2019: \"https://datos.profeco.gob.mx/datos_abiertos/file.php?t=09939d92d2afcde64dbc06e057877e16\",\n",
    "    2018: \"https://datos.profeco.gob.mx/datos_abiertos/file.php?t=01fafa951fb6c82e6e4bb491af8f1688\"\n",
    "}\n",
    "\n",
    "def download_files(urls, directory='data/raw'):\n",
    "    if not os.path.exists(directory):\n",
    "        os.makedirs(directory)\n",
    "    \n",
    "    for year, url in urls.items():\n",
    "        filename = os.path.join(directory, f'data_{year}.rar')\n",
    "        print(f'Descargando datos del año {year}...')\n",
    "        \n",
    "        # Descarga y guarda el archivo RAR\n",
    "        with requests.get(url, stream=True) as r:\n",
    "            r.raise_for_status()\n",
    "            with open(filename, 'wb') as f:\n",
    "                for chunk in r.iter_content(chunk_size=8192):\n",
    "                    f.write(chunk)\n",
    "        print(f'Datos del año {year} descargados correctamente en {filename}')\n",
    "\n",
    "download_files(urls)"
   ]
  },
  {
   "cell_type": "code",
   "execution_count": 3,
   "metadata": {},
   "outputs": [
    {
     "name": "stdout",
     "output_type": "stream",
     "text": [
      "\u001b[31mERROR: Could not find a version that satisfies the requirement patoolib (from versions: none)\u001b[0m\u001b[31m\n",
      "\u001b[0m\u001b[31mERROR: No matching distribution found for patoolib\u001b[0m\u001b[31m\n",
      "\u001b[0mNote: you may need to restart the kernel to use updated packages.\n"
     ]
    }
   ],
   "source": [
    "pip install patoolib"
   ]
  },
  {
   "cell_type": "code",
   "execution_count": 2,
   "metadata": {},
   "outputs": [
    {
     "ename": "ModuleNotFoundError",
     "evalue": "No module named 'patoolib'",
     "output_type": "error",
     "traceback": [
      "\u001b[0;31m---------------------------------------------------------------------------\u001b[0m",
      "\u001b[0;31mModuleNotFoundError\u001b[0m                       Traceback (most recent call last)",
      "Cell \u001b[0;32mIn[2], line 1\u001b[0m\n\u001b[0;32m----> 1\u001b[0m \u001b[38;5;28;01mimport\u001b[39;00m \u001b[38;5;21;01mpatoolib\u001b[39;00m\n\u001b[1;32m      2\u001b[0m \u001b[38;5;28;01mimport\u001b[39;00m \u001b[38;5;21;01mos\u001b[39;00m\n\u001b[1;32m      4\u001b[0m \u001b[38;5;28;01mdef\u001b[39;00m \u001b[38;5;21mextract_rar_contents\u001b[39m(directoryin\u001b[38;5;241m=\u001b[39m\u001b[38;5;124m'\u001b[39m\u001b[38;5;124mdata/raw/\u001b[39m\u001b[38;5;124m'\u001b[39m, directoryout\u001b[38;5;241m=\u001b[39m\u001b[38;5;124m'\u001b[39m\u001b[38;5;124mdata/extract/\u001b[39m\u001b[38;5;124m'\u001b[39m):\n",
      "\u001b[0;31mModuleNotFoundError\u001b[0m: No module named 'patoolib'"
     ]
    }
   ],
   "source": [
    "import patoolib\n",
    "import os\n",
    "\n",
    "def extract_rar_contents(directoryin='data/raw/', directoryout='data/extract/'):\n",
    "    for filename in os.listdir(directoryin):\n",
    "        if filename.endswith('.rar'):\n",
    "            file_path = os.path.join(directoryin, filename)\n",
    "            extract_to = os.path.join(directoryout)\n",
    "            if not os.path.exists(extract_to):\n",
    "                os.makedirs(extract_to)\n",
    "            print(f'Procesando archivo: {filename}')\n",
    "            print(f'Extrayendo el contenido de {filename} a {extract_to}...')\n",
    "            \n",
    "            # Usar patoolib para extraer el archivo\n",
    "            patoolib.extract_archive(file_path, outdir=extract_to)\n",
    "            print(f'Todos los archivos han sido extraídos a {extract_to}\\n')\n",
    "\n",
    "extract_rar_contents()"
   ]
  },
  {
   "cell_type": "code",
   "execution_count": null,
   "metadata": {},
   "outputs": [],
   "source": []
  },
  {
   "cell_type": "code",
   "execution_count": null,
   "metadata": {},
   "outputs": [],
   "source": []
  }
 ],
 "metadata": {
  "kernelspec": {
   "display_name": "Python 3 (ipykernel)",
   "language": "python",
   "name": "python3"
  },
  "language_info": {
   "codemirror_mode": {
    "name": "ipython",
    "version": 3
   },
   "file_extension": ".py",
   "mimetype": "text/x-python",
   "name": "python",
   "nbconvert_exporter": "python",
   "pygments_lexer": "ipython3",
   "version": "3.11.6"
  }
 },
 "nbformat": 4,
 "nbformat_minor": 4
}
